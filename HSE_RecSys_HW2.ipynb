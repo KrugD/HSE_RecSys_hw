{
 "cells": [
  {
   "cell_type": "markdown",
   "id": "93831896-683d-4946-8cae-7aff56608a65",
   "metadata": {},
   "source": [
    "## ДЗ №2. Матричные факторизации"
   ]
  },
  {
   "cell_type": "markdown",
   "id": "03b424ec-3791-4113-a672-25ef7cfa704d",
   "metadata": {},
   "source": [
    "#### В этой домашке вам предстоит реализовать некоторые базовые модели матричной факторизации\n",
    "\n",
    "#### Дата выдачи: 17.02.25\n",
    "\n",
    "#### Мягкий дедлайн: 02.03.25 23:59 MSK\n",
    "\n",
    "#### Жесткий дедлайн: 09.03.25 23:59 MSK"
   ]
  },
  {
   "cell_type": "markdown",
   "id": "d8f4b315-75b8-4225-953c-5510c584ff2b",
   "metadata": {},
   "source": [
    "В этом задании мы будем работать с классическим для рекоендательных систем датасетом [MovieLens 1M](https://grouplens.org/datasets/movielens/1m/). Датасет содержит рейтинги оценки для 4000 фильмов от 6000 пользователей. Более подробное описание можете найти на странице с датасетом и в README файле"
   ]
  },
  {
   "cell_type": "code",
   "execution_count": 1,
   "id": "f5a85f84-4854-4249-963d-143d08bb7e36",
   "metadata": {},
   "outputs": [
    {
     "name": "stderr",
     "output_type": "stream",
     "text": [
      "\"wget\" �� ���� ����७��� ��� ���譥�\n",
      "��������, �ᯮ��塞�� �ணࠬ��� ��� ������ 䠩���.\n",
      "\"unzip\" �� ���� ����७��� ��� ���譥�\n",
      "��������, �ᯮ��塞�� �ணࠬ��� ��� ������ 䠩���.\n",
      "\"cat\" �� ���� ����७��� ��� ���譥�\n",
      "��������, �ᯮ��塞�� �ணࠬ��� ��� ������ 䠩���.\n"
     ]
    }
   ],
   "source": [
    "!wget https://files.grouplens.org/datasets/movielens/ml-1m.zip\n",
    "!unzip ml-1m.zip\n",
    "!cat ml-1m/README"
   ]
  },
  {
   "cell_type": "code",
   "execution_count": 52,
   "id": "f8bf604e",
   "metadata": {},
   "outputs": [
    {
     "name": "stdout",
     "output_type": "stream",
     "text": [
      "Содержимое zip-файла:\n",
      "['ml-1m/', 'ml-1m/movies.dat', 'ml-1m/ratings.dat', 'ml-1m/README', 'ml-1m/users.dat']\n",
      "Файл README не найден в распакованном содержимом.\n"
     ]
    }
   ],
   "source": [
    "import requests\n",
    "import zipfile\n",
    "import os\n",
    "\n",
    "# Загрузка zip-файла\n",
    "url = \"https://files.grouplens.org/datasets/movielens/ml-1m.zip\"\n",
    "response = requests.get(url)\n",
    "\n",
    "# Сохранение zip-файла\n",
    "with open(\"ml-1m.zip\", \"wb\") as f:\n",
    "    f.write(response.content)\n",
    "\n",
    "# Распаковка zip-файла и проверка его содержимого\n",
    "with zipfile.ZipFile(\"ml-1m.zip\", \"r\") as zip_ref:\n",
    "    zip_ref.extractall(\"ml-1m\")\n",
    "    # Печать содержимого zip-файла\n",
    "    print(\"Содержимое zip-файла:\")\n",
    "    zip_contents = zip_ref.namelist()\n",
    "    print(zip_contents)\n",
    "\n",
    "# Чтение файла README\n",
    "readme_file = \"ml-1m/README.txt\"  \n",
    "if readme_file in zip_contents:\n",
    "    with open(readme_file, \"r\", encoding='utf-8') as f:\n",
    "        readme_content = f.read()\n",
    "        print(readme_content)\n",
    "else:\n",
    "    print(\"Файл README не найден в распакованном содержимом.\")\n"
   ]
  },
  {
   "cell_type": "code",
   "execution_count": 2,
   "id": "669137ca-f0f9-48d4-ae04-e42a4b0f8d14",
   "metadata": {},
   "outputs": [],
   "source": [
    "import pandas as pd\n",
    "import numpy as np\n",
    "from typing import Union"
   ]
  },
  {
   "cell_type": "code",
   "execution_count": 3,
   "id": "ed65b0ae-ce2d-437a-9739-e7981011089f",
   "metadata": {},
   "outputs": [
    {
     "data": {
      "text/html": [
       "<div>\n",
       "<style scoped>\n",
       "    .dataframe tbody tr th:only-of-type {\n",
       "        vertical-align: middle;\n",
       "    }\n",
       "\n",
       "    .dataframe tbody tr th {\n",
       "        vertical-align: top;\n",
       "    }\n",
       "\n",
       "    .dataframe thead th {\n",
       "        text-align: right;\n",
       "    }\n",
       "</style>\n",
       "<table border=\"1\" class=\"dataframe\">\n",
       "  <thead>\n",
       "    <tr style=\"text-align: right;\">\n",
       "      <th></th>\n",
       "      <th>user_id</th>\n",
       "      <th>item_id</th>\n",
       "      <th>rating</th>\n",
       "      <th>datetime</th>\n",
       "    </tr>\n",
       "  </thead>\n",
       "  <tbody>\n",
       "    <tr>\n",
       "      <th>0</th>\n",
       "      <td>1</td>\n",
       "      <td>1193</td>\n",
       "      <td>5</td>\n",
       "      <td>2000-12-31 22:12:40</td>\n",
       "    </tr>\n",
       "    <tr>\n",
       "      <th>1</th>\n",
       "      <td>1</td>\n",
       "      <td>661</td>\n",
       "      <td>3</td>\n",
       "      <td>2000-12-31 22:35:09</td>\n",
       "    </tr>\n",
       "    <tr>\n",
       "      <th>2</th>\n",
       "      <td>1</td>\n",
       "      <td>914</td>\n",
       "      <td>3</td>\n",
       "      <td>2000-12-31 22:32:48</td>\n",
       "    </tr>\n",
       "    <tr>\n",
       "      <th>3</th>\n",
       "      <td>1</td>\n",
       "      <td>3408</td>\n",
       "      <td>4</td>\n",
       "      <td>2000-12-31 22:04:35</td>\n",
       "    </tr>\n",
       "    <tr>\n",
       "      <th>4</th>\n",
       "      <td>1</td>\n",
       "      <td>2355</td>\n",
       "      <td>5</td>\n",
       "      <td>2001-01-06 23:38:11</td>\n",
       "    </tr>\n",
       "  </tbody>\n",
       "</table>\n",
       "</div>"
      ],
      "text/plain": [
       "   user_id  item_id  rating            datetime\n",
       "0        1     1193       5 2000-12-31 22:12:40\n",
       "1        1      661       3 2000-12-31 22:35:09\n",
       "2        1      914       3 2000-12-31 22:32:48\n",
       "3        1     3408       4 2000-12-31 22:04:35\n",
       "4        1     2355       5 2001-01-06 23:38:11"
      ]
     },
     "execution_count": 3,
     "metadata": {},
     "output_type": "execute_result"
    }
   ],
   "source": [
    "df = pd.read_csv(\"ml-1m/ratings.dat\", sep='::', names=['user_id', 'item_id', 'rating', 'timestamp'], engine='python')\n",
    "df['datetime'] = pd.to_datetime(df['timestamp'], unit='s')\n",
    "df.drop('timestamp', axis=1, inplace=True)\n",
    "df.head()"
   ]
  },
  {
   "cell_type": "code",
   "execution_count": 4,
   "id": "4988d476-542e-4a32-9c45-7a16bc2a5db5",
   "metadata": {},
   "outputs": [],
   "source": [
    "value_counts = df['item_id'].value_counts()\n",
    "filtered_values = value_counts[value_counts > 20].index\n",
    "df = df[df['item_id'].isin(filtered_values)].copy()"
   ]
  },
  {
   "cell_type": "code",
   "execution_count": 5,
   "id": "1e05bd3b-ab2f-4c02-9a97-a4153e9550bc",
   "metadata": {},
   "outputs": [
    {
     "data": {
      "text/plain": [
       "((787420, 4), (207432, 4))"
      ]
     },
     "execution_count": 5,
     "metadata": {},
     "output_type": "execute_result"
    }
   ],
   "source": [
    "train_end = '2000-12-01'\n",
    "df_train = df[df['datetime'] < train_end].copy()\n",
    "df_test = df[df['datetime'] >= train_end].copy()\n",
    "df_train.shape, df_test.shape"
   ]
  },
  {
   "cell_type": "code",
   "execution_count": 6,
   "id": "414b8ed7-20d6-4778-9d60-f9c8ccbfa7e3",
   "metadata": {},
   "outputs": [
    {
     "data": {
      "text/plain": [
       "(106471, 4)"
      ]
     },
     "execution_count": 6,
     "metadata": {},
     "output_type": "execute_result"
    }
   ],
   "source": [
    "train_users = df_train['user_id'].unique()\n",
    "train_items = df_train['item_id'].unique()\n",
    "\n",
    "df_test = df_test[df_test['user_id'].isin(train_users)]\n",
    "df_test = df_test[df_test['item_id'].isin(train_items)]\n",
    "df_test.shape"
   ]
  },
  {
   "cell_type": "code",
   "execution_count": 7,
   "id": "19f53d61-990c-4626-a470-7eefd06d2ec7",
   "metadata": {},
   "outputs": [],
   "source": [
    "from sklearn.preprocessing import LabelEncoder\n",
    "\n",
    "user_le = LabelEncoder()\n",
    "item_le = LabelEncoder()\n",
    "\n",
    "df_train['user_id'] = user_le.fit_transform(df_train['user_id'])\n",
    "df_train['item_id'] = item_le.fit_transform(df_train['item_id'])\n",
    "\n",
    "df_test['user_id'] = user_le.transform(df_test['user_id'])\n",
    "df_test['item_id'] = item_le.transform(df_test['item_id'])"
   ]
  },
  {
   "cell_type": "code",
   "execution_count": 8,
   "id": "f4ef3e2f-792d-4511-b4d0-74495d9cb30b",
   "metadata": {},
   "outputs": [
    {
     "data": {
      "text/plain": [
       "(3010, np.int64(3009))"
      ]
     },
     "execution_count": 8,
     "metadata": {},
     "output_type": "execute_result"
    }
   ],
   "source": [
    "df_train['user_id'].nunique(), df_train['user_id'].max()\n",
    "df_train['item_id'].nunique(), df_train['item_id'].max()"
   ]
  },
  {
   "cell_type": "markdown",
   "id": "3d356df8-9157-4752-b30d-dc80aba5e53c",
   "metadata": {},
   "source": [
    "##### Задание 1. Напишем функцию, которая превратит датафрейм в матрицу интеракций. В функции df_to_matrix реализуйте функцию, которая принимает датафрейм и возвращает np.array матрицу интеракций. В функции df_to_coo реализуйте функцию, которая принимает датафрейм и возвращает разреженную матрицу интеракций в coo_array формате"
   ]
  },
  {
   "cell_type": "code",
   "execution_count": 9,
   "id": "d38a7bb7-7f2d-4957-8dac-6397af9b1645",
   "metadata": {},
   "outputs": [],
   "source": [
    "def df_to_matrix(df: pd.DataFrame) -> np.ndarray:\n",
    "\n",
    "    #your code here\n",
    "    n_users = df['user_id'].max() + 1\n",
    "    n_items = df['item_id'].max() + 1\n",
    "    matrix = np.zeros((n_users, n_items), dtype=np.float64)\n",
    "    matrix[df['user_id'], df['item_id']] = df['rating']\n",
    "    return matrix #shape ~ [n_users, n_items]"
   ]
  },
  {
   "cell_type": "code",
   "execution_count": 10,
   "id": "55362cbb-5e2d-455b-afd1-8507f1dd51ba",
   "metadata": {},
   "outputs": [],
   "source": [
    "interactions = df_to_matrix(df_train)"
   ]
  },
  {
   "cell_type": "code",
   "execution_count": 11,
   "id": "794b646d-a560-42dd-a466-87cad2589271",
   "metadata": {},
   "outputs": [],
   "source": [
    "from scipy.sparse import coo_array\n",
    "\n",
    "def df_to_coo(df: pd.DataFrame) -> coo_array:\n",
    "\n",
    "    #your code here\n",
    "    rows = df['user_id'].values\n",
    "    cols = df['item_id'].values\n",
    "    data = df['rating'].values\n",
    "    n_users = df['user_id'].max() + 1\n",
    "    n_items = df['item_id'].max() + 1\n",
    "    return coo_array((data, (rows, cols)), shape=(n_users, n_items)) # coo_array"
   ]
  },
  {
   "cell_type": "code",
   "execution_count": 12,
   "id": "30f9c218-0419-41b2-a112-c2214fad1d99",
   "metadata": {},
   "outputs": [],
   "source": [
    "coo_interactions = df_to_coo(df_train)"
   ]
  },
  {
   "cell_type": "code",
   "execution_count": 13,
   "id": "96b57a7a-0551-4f75-8047-fb9904ac93df",
   "metadata": {},
   "outputs": [],
   "source": [
    "assert (interactions != 0).sum() == df_train.shape[0]\n",
    "assert interactions[0, 2994] == 3\n",
    "assert interactions[2369, 1203] == 5\n",
    "assert interactions[1557, 459] == 3\n",
    "assert np.allclose(coo_interactions.toarray(), interactions)"
   ]
  },
  {
   "cell_type": "markdown",
   "id": "93b3862a-e62a-4ebe-a70c-29102e9f99fd",
   "metadata": {},
   "source": [
    "##### Задание 2.1. Рассмотрим [SVD](https://en.wikipedia.org/wiki/Singular_value_decomposition). Возьмите готовую реализуцию алгоритма из numpy.linalg или из scipy.linalg и примените алгоритм к матрицам интеракций, полученным в первом задании. Для работы со sparse матрицей обычная реализация svd не подойдет и нужно будет воспользоваться scipy.sparse.linalg.svds. Вам нужно разложить матрицу интеракций на 3 матрицы U, S, V, а затем перемножить их и восстановить изначальную матрицу. При полном разложении исходная матрица должна восстанавливаться максимально хорошо"
   ]
  },
  {
   "cell_type": "code",
   "execution_count": 14,
   "id": "867e3b5e",
   "metadata": {},
   "outputs": [],
   "source": [
    "from scipy.linalg import svd as scipy_svd\n",
    "from scipy.sparse.linalg import svds as sparse_svds"
   ]
  },
  {
   "cell_type": "code",
   "execution_count": 15,
   "id": "eead134a-9aac-4027-b0b8-592de614c3d0",
   "metadata": {},
   "outputs": [],
   "source": [
    "def make_svd(interactions: Union[np.ndarray, coo_array], n_singular_values: int = -1):\n",
    "    # функция должна работать и для полной матрицы и для sparse матрицы(вам поможет isinstance).\n",
    "    # если n_singular_values = -1, то берем все сингулярные числа для полной матрицы\n",
    "    # и все кроме одного сингулярного числа для coo-матрицы(иначе scipy.sparse.linalg.svds не будет работать)\n",
    "\n",
    "\n",
    "    #your code here\n",
    "    if isinstance(interactions, np.ndarray):\n",
    "        # Для плотной матрицы\n",
    "        if n_singular_values == -1:\n",
    "            U, S, Vt = scipy_svd(interactions, full_matrices=False)\n",
    "        else:\n",
    "            U, S, Vt = sparse_svds(interactions.astype(np.float64), k=n_singular_values)\n",
    "        S = np.diag(S)  # Преобразуем вектор в диагональную матрицу\n",
    "    elif isinstance(interactions, coo_array):\n",
    "        # Для разреженной матрицы\n",
    "        n_users, n_items = interactions.shape\n",
    "        if n_singular_values == -1:\n",
    "            k = min(n_users, n_items) - 1\n",
    "        else:\n",
    "            k = n_singular_values\n",
    "        U, S, Vt = sparse_svds(interactions.astype(np.float64), k=k)\n",
    "        S = np.diag(S)\n",
    "    else:\n",
    "        raise ValueError(\"Unsupported matrix type\")\n",
    "    return U, S, Vt  "
   ]
  },
  {
   "cell_type": "code",
   "execution_count": 16,
   "id": "5c5fecd4-4739-4f6b-9c9c-44bde8b66a34",
   "metadata": {},
   "outputs": [],
   "source": [
    "U, S, V = make_svd(interactions)\n",
    "assert np.allclose(U @ S @ V, interactions)"
   ]
  },
  {
   "cell_type": "code",
   "execution_count": 17,
   "id": "c5a5f59e-3832-4a7d-95b4-856531582bbd",
   "metadata": {},
   "outputs": [],
   "source": [
    "U1, S1, V1 = make_svd(interactions, 10)\n",
    "U, S, V = make_svd(coo_interactions, 10)\n",
    "assert np.allclose(U1 @ S1 @ V1, U @ S @ V)"
   ]
  },
  {
   "cell_type": "markdown",
   "id": "9443daa6-e9f1-414a-8107-5a3016452929",
   "metadata": {},
   "source": [
    "##### Задание 2.2. Теперь попробуем сделать рекомендации с помощью SVD. Мы научились восстанавливать исходную матрицу с помощью разложения, теперь же мы хотим порекомендовать пользователю айтемы, которые будут для него максимально релевантны(в восстановленной матрице у них будет самый высокий скор). Для каждого пользователя нужно будет найти индексы айтемов, которые имеют максимальный скор. При этом стоит обратить внимание, что мы не хотим рекомендовать пользователю айтемы, с которыми он уже взаимодействовал"
   ]
  },
  {
   "cell_type": "code",
   "execution_count": 18,
   "id": "787da18f-48d0-4dfa-b18f-b7e97cc98a4f",
   "metadata": {},
   "outputs": [],
   "source": [
    "def make_svd_recommendations(interractions: Union[np.ndarray, coo_array], n_singular_values: int = -1, top_k: int = 100):\n",
    "    # Возвращает матрицу вида n_users, top_k, то есть для каждого пользователя возвращаем индексы \n",
    "    # top_k самых релевантный айтемов среди тех с которыми он еще не взаимодействовал\n",
    "\n",
    "    #your code here\n",
    "    # Восстановление матрицы\n",
    "    pred_matrix = U @ S @ V  # Используем Vt напрямую\n",
    "    \n",
    "    # Маскировка существующих взаимодействий\n",
    "    if isinstance(interactions, np.ndarray):\n",
    "        mask = interactions != 0\n",
    "    else:\n",
    "        mask = interactions.toarray() != 0\n",
    "    pred_matrix[mask] = -np.inf\n",
    "    \n",
    "    # Рекомендации\n",
    "    recommendations = np.argsort(-pred_matrix, axis=1)[:, :top_k]\n",
    "\n",
    "    return recommendations #shape ~ [n_users, top_k]"
   ]
  },
  {
   "cell_type": "code",
   "execution_count": 19,
   "id": "ec72f3dd-c8f2-4434-b84e-ef016c4773a1",
   "metadata": {},
   "outputs": [],
   "source": [
    "recs_SVD = make_svd_recommendations(interactions, -1, 100)\n",
    "assert recs_SVD.shape == (interactions.shape[0], 100)"
   ]
  },
  {
   "cell_type": "markdown",
   "id": "f5d0b788-855a-4fd9-8cbb-38c0dd289ef5",
   "metadata": {},
   "source": [
    "##### Задание 2.3. Теперь давайте посмотрим как будет зависеть качетво рекомендаций, от количества сингулярных чисел, которые мы возьмем в SVD разложении. Переберите n_singular_values из списка [1, 10, 50, 200, 1000] и посмотрите как будет изменяться метрика NDCG на тестовом датасете для таких рекомендаций и как будет меняться время вычисления. Для каждого графики зависимости метрики NDCG от n_singular_values и времени работы алгоритма от n_singular_values(Время работы будет меняться только для sparse-матрицы, стоит запускать алгоритм именно для нее)"
   ]
  },
  {
   "cell_type": "code",
   "execution_count": 20,
   "id": "74ea032b",
   "metadata": {},
   "outputs": [],
   "source": [
    "import time\n",
    "import matplotlib.pyplot as plt\n",
    "from sklearn.metrics import ndcg_score"
   ]
  },
  {
   "cell_type": "code",
   "execution_count": 21,
   "id": "06f931fd-0eb0-4965-9e02-e005ed545c71",
   "metadata": {},
   "outputs": [],
   "source": [
    "def plot_graphs(interractions: Union[np.ndarray, coo_array], top_k: int = 100):\n",
    "    #your code here\n",
    "    ndcg_scores = []\n",
    "    times = []\n",
    "    n_values = [1, 10, 50, 200, 1000]\n",
    "    \n",
    "    for n in n_values:\n",
    "        start_time = time.time()\n",
    "        recs = make_svd_recommendations(interactions, n, top_k)\n",
    "        elapsed = time.time() - start_time\n",
    "        times.append(elapsed)\n",
    "        \n",
    "        # Вычисление NDCG\n",
    "        y_true = df_test.groupby(\"user_id\")[\"item_id\"].apply(list)\n",
    "        y_pred = [recs[user] for user in range(interactions.shape[0])]\n",
    "        \n",
    "        ndcg = np.mean([\n",
    "            ndcg_score([np.isin(pred, true).astype(int)], [np.arange(len(pred))], k=top_k)\n",
    "            for true, pred in zip(y_true, y_pred) if len(pred) > 0\n",
    "        ])\n",
    "        ndcg_scores.append(ndcg)\n",
    "    \n",
    "    # Графики\n",
    "    plt.figure(figsize=(12, 5))\n",
    "    plt.subplot(1, 2, 1)\n",
    "    plt.plot(n_values, ndcg_scores, marker=\"o\")\n",
    "    plt.xlabel(\"Number of Singular Values\")\n",
    "    plt.ylabel(\"NDCG@100\")\n",
    "    \n",
    "    plt.subplot(1, 2, 2)\n",
    "    plt.plot(n_values, times, marker=\"o\")\n",
    "    plt.xlabel(\"Number of Singular Values\")\n",
    "    plt.ylabel(\"Time (s)\")\n",
    "    plt.tight_layout()\n",
    "    plt.show()\n"
   ]
  },
  {
   "cell_type": "code",
   "execution_count": 22,
   "id": "ee22fe02-b1c2-4fb5-a7b1-0525356fe9f0",
   "metadata": {},
   "outputs": [
    {
     "data": {
      "image/png": "[encoded data removed]",
      "text/plain": [
       "<Figure size 1200x500 with 2 Axes>"
      ]
     },
     "metadata": {},
     "output_type": "display_data"
    }
   ],
   "source": [
    "plot_graphs(coo_interactions)"
   ]
  },
  {
   "cell_type": "markdown",
   "id": "a8612d96-c694-42d6-9525-58808f642577",
   "metadata": {},
   "source": [
    "##### Задание 3.1. Перейдем к [ALS](http://yifanhu.net/PUB/cf.pdf). Возьмем реализацию iALS из библиотеки [implicit](https://benfred.github.io/implicit/api/models/cpu/als.html). Обучите ALS на нашем датасете, сделайте top_k рекомендации для юзеров из тестового датасета, и сравните метрики ALS с метриками, которые получились в SVD. Попробуйте перебрать гиперпараметры и найдите оптимальное число факторов, коэффициент alpha и коэффициент регуляризации."
   ]
  },
  {
   "cell_type": "code",
   "execution_count": 23,
   "id": "b84b9b06",
   "metadata": {},
   "outputs": [],
   "source": [
    "from implicit.als import AlternatingLeastSquares\n",
    "from scipy.sparse import csr_matrix"
   ]
  },
  {
   "cell_type": "code",
   "execution_count": 24,
   "id": "b5fb16e9-49d1-4d7e-a384-ccbdad4f1cdf",
   "metadata": {},
   "outputs": [],
   "source": [
    "def make_als_recommendations(\n",
    "    interactions: Union[np.ndarray, coo_array], \n",
    "    top_k: int = 100, \n",
    "    n_factors: int = 100,\n",
    "    alpha: float = 1.0,\n",
    "    regularization: float = 0.01,\n",
    "):\n",
    "    #your code here\n",
    "    # Инициализация модели ALS\n",
    "    model = AlternatingLeastSquares(\n",
    "        factors=n_factors,\n",
    "        regularization=regularization,\n",
    "        alpha=alpha\n",
    "    )\n",
    "    \n",
    "    if isinstance(interactions, np.ndarray):\n",
    "        interactions = csr_matrix(interactions)\n",
    "    \n",
    "    model.fit(interactions)\n",
    "    \n",
    "    user_ids = np.arange(interactions.shape[0])\n",
    "    recommendations = []\n",
    "    \n",
    "    for user in user_ids:\n",
    "        # Получаем кортежи (item_id, score)\n",
    "        recs = model.recommend(\n",
    "            userid=user,\n",
    "            user_items=interactions[user],\n",
    "            N=top_k,\n",
    "            filter_already_liked_items=True\n",
    "        )\n",
    "        \n",
    "        # Извлекаем только целочисленные item_id\n",
    "        valid_item_ids = [int(rec[0]) for rec in recs if rec[0] < interactions.shape[1]]\n",
    "        \n",
    "        # Проверяем наличие item_id в кодировщике\n",
    "        valid_item_ids = [id for id in valid_item_ids if id in item_le.classes_]\n",
    "        \n",
    "        # Дополняем до top_k валидными значениями\n",
    "        if len(valid_item_ids) < top_k:\n",
    "            valid_item_ids.extend([-1] * (top_k - len(valid_item_ids)))\n",
    "        \n",
    "        recommendations.append(valid_item_ids[:top_k])\n",
    "    \n",
    "    return np.array(recommendations)"
   ]
  },
  {
   "cell_type": "code",
   "execution_count": 25,
   "id": "b5573d01-8512-450f-9260-03928ee9b367",
   "metadata": {},
   "outputs": [
    {
     "name": "stderr",
     "output_type": "stream",
     "text": [
      "c:\\Users\\krugd\\AppData\\Local\\Programs\\Python\\Python313\\Lib\\site-packages\\implicit\\cpu\\als.py:95: RuntimeWarning: OpenBLAS is configured to use 16 threads. It is highly recommended to disable its internal threadpool by setting the environment variable 'OPENBLAS_NUM_THREADS=1' or by calling 'threadpoolctl.threadpool_limits(1, \"blas\")'. Having OpenBLAS use a threadpool can lead to severe performance issues here.\n",
      "  check_blas_config()\n"
     ]
    },
    {
     "data": {
      "application/vnd.jupyter.widget-view+json": {
       "model_id": "46af9683fde44fa3a89a66c686bd7926",
       "version_major": 2,
       "version_minor": 0
      },
      "text/plain": [
       "  0%|          | 0/15 [00:00<?, ?it/s]"
      ]
     },
     "metadata": {},
     "output_type": "display_data"
    }
   ],
   "source": [
    "recs_ALS = make_als_recommendations(interactions)\n",
    "assert recs_ALS.shape == (interactions.shape[0], 100)"
   ]
  },
  {
   "cell_type": "code",
   "execution_count": 26,
   "id": "8d142497",
   "metadata": {},
   "outputs": [],
   "source": [
    "def eval_ndcg(recommendations, test_df):\n",
    "    y_true = test_df.groupby(\"user_id\")[\"item_id\"].apply(list)\n",
    "    y_pred = [recs_ALS[user] for user in range(recommendations.shape[0])]\n",
    "    \n",
    "    ndcg_scores = []\n",
    "    for user in y_true.index:\n",
    "        true_items = y_true[user]\n",
    "        if user >= len(y_pred):\n",
    "            continue\n",
    "        pred_items = recommendations[user]\n",
    "        if len(pred_items) == 0:\n",
    "            continue\n",
    "        # Создаем бинарные метки для совпадений\n",
    "        relevance = np.isin(pred_items, true_items).astype(int)\n",
    "        if np.sum(relevance) == 0:\n",
    "            continue\n",
    "        ndcg = ndcg_score([relevance], [np.arange(len(relevance))], k=100)\n",
    "        ndcg_scores.append(ndcg)\n",
    "    return np.mean(ndcg_scores) if ndcg_scores else 0"
   ]
  },
  {
   "cell_type": "code",
   "execution_count": 27,
   "id": "a507f616",
   "metadata": {},
   "outputs": [
    {
     "name": "stdout",
     "output_type": "stream",
     "text": [
      "ALS NDCG@100 (default): 0.1519\n"
     ]
    }
   ],
   "source": [
    "# Вычисляем NDCG для ALS с параметрами по умолчанию\n",
    "als_ndcg = eval_ndcg(recs_ALS, df_test)\n",
    "print(f\"ALS NDCG@100 (default): {als_ndcg:.4f}\")"
   ]
  },
  {
   "cell_type": "code",
   "execution_count": 28,
   "id": "7746e853",
   "metadata": {},
   "outputs": [
    {
     "name": "stdout",
     "output_type": "stream",
     "text": [
      "SVD NDCG@100: 0.4877\n"
     ]
    }
   ],
   "source": [
    "# Вычисляем NDCG для SVD (лучший результат из задания 2.3)\n",
    "svd_ndcg = eval_ndcg(recs_SVD, df_test)\n",
    "print(f\"SVD NDCG@100: {svd_ndcg:.4f}\")"
   ]
  },
  {
   "cell_type": "code",
   "execution_count": 29,
   "id": "b9b60521",
   "metadata": {},
   "outputs": [],
   "source": [
    "# Подбор гиперпараметров ALS\n",
    "param_grid = {\n",
    "    'n_factors': [50, 100, 200, 300],\n",
    "    'alpha': [1.0, 10.0, 50.0, 60.0],\n",
    "    'regularization': [0.01, 0.1, 1.0]\n",
    "}"
   ]
  },
  {
   "cell_type": "code",
   "execution_count": 30,
   "id": "49f727d4",
   "metadata": {},
   "outputs": [
    {
     "data": {
      "application/vnd.jupyter.widget-view+json": {
       "model_id": "008a0e0bdcdc4334adef55a8960cccb8",
       "version_major": 2,
       "version_minor": 0
      },
      "text/plain": [
       "  0%|          | 0/15 [00:00<?, ?it/s]"
      ]
     },
     "metadata": {},
     "output_type": "display_data"
    },
    {
     "data": {
      "application/vnd.jupyter.widget-view+json": {
       "model_id": "223fac1128c8443a824e1545c1d2eef3",
       "version_major": 2,
       "version_minor": 0
      },
      "text/plain": [
       "  0%|          | 0/15 [00:00<?, ?it/s]"
      ]
     },
     "metadata": {},
     "output_type": "display_data"
    },
    {
     "data": {
      "application/vnd.jupyter.widget-view+json": {
       "model_id": "e3f7cd29c4a74e11bab0320e8a77bc53",
       "version_major": 2,
       "version_minor": 0
      },
      "text/plain": [
       "  0%|          | 0/15 [00:00<?, ?it/s]"
      ]
     },
     "metadata": {},
     "output_type": "display_data"
    },
    {
     "data": {
      "application/vnd.jupyter.widget-view+json": {
       "model_id": "a2a33e4e243a482ea19eed378673e53a",
       "version_major": 2,
       "version_minor": 0
      },
      "text/plain": [
       "  0%|          | 0/15 [00:00<?, ?it/s]"
      ]
     },
     "metadata": {},
     "output_type": "display_data"
    },
    {
     "data": {
      "application/vnd.jupyter.widget-view+json": {
       "model_id": "01e027aba1714178b0ecfee9e4bc57d4",
       "version_major": 2,
       "version_minor": 0
      },
      "text/plain": [
       "  0%|          | 0/15 [00:00<?, ?it/s]"
      ]
     },
     "metadata": {},
     "output_type": "display_data"
    },
    {
     "data": {
      "application/vnd.jupyter.widget-view+json": {
       "model_id": "f8eab8a99b674d1096db954c44a6e2b9",
       "version_major": 2,
       "version_minor": 0
      },
      "text/plain": [
       "  0%|          | 0/15 [00:00<?, ?it/s]"
      ]
     },
     "metadata": {},
     "output_type": "display_data"
    },
    {
     "data": {
      "application/vnd.jupyter.widget-view+json": {
       "model_id": "f53f67f28ba94327a8eab2bbddeaabfc",
       "version_major": 2,
       "version_minor": 0
      },
      "text/plain": [
       "  0%|          | 0/15 [00:00<?, ?it/s]"
      ]
     },
     "metadata": {},
     "output_type": "display_data"
    },
    {
     "data": {
      "application/vnd.jupyter.widget-view+json": {
       "model_id": "21a9fb70f0ad4333b1b2fce1177eaa29",
       "version_major": 2,
       "version_minor": 0
      },
      "text/plain": [
       "  0%|          | 0/15 [00:00<?, ?it/s]"
      ]
     },
     "metadata": {},
     "output_type": "display_data"
    },
    {
     "data": {
      "application/vnd.jupyter.widget-view+json": {
       "model_id": "1899c8d9af4f48298bcdfd12421aea49",
       "version_major": 2,
       "version_minor": 0
      },
      "text/plain": [
       "  0%|          | 0/15 [00:00<?, ?it/s]"
      ]
     },
     "metadata": {},
     "output_type": "display_data"
    },
    {
     "data": {
      "application/vnd.jupyter.widget-view+json": {
       "model_id": "9db8bef8eaeb421298d300cffd33252a",
       "version_major": 2,
       "version_minor": 0
      },
      "text/plain": [
       "  0%|          | 0/15 [00:00<?, ?it/s]"
      ]
     },
     "metadata": {},
     "output_type": "display_data"
    },
    {
     "data": {
      "application/vnd.jupyter.widget-view+json": {
       "model_id": "4d983b76a66b4e5680d278939d465944",
       "version_major": 2,
       "version_minor": 0
      },
      "text/plain": [
       "  0%|          | 0/15 [00:00<?, ?it/s]"
      ]
     },
     "metadata": {},
     "output_type": "display_data"
    },
    {
     "data": {
      "application/vnd.jupyter.widget-view+json": {
       "model_id": "980314b169e34dc187272cd2c1f0e87e",
       "version_major": 2,
       "version_minor": 0
      },
      "text/plain": [
       "  0%|          | 0/15 [00:00<?, ?it/s]"
      ]
     },
     "metadata": {},
     "output_type": "display_data"
    },
    {
     "data": {
      "application/vnd.jupyter.widget-view+json": {
       "model_id": "5840754d14a9460380076ef537579f72",
       "version_major": 2,
       "version_minor": 0
      },
      "text/plain": [
       "  0%|          | 0/15 [00:00<?, ?it/s]"
      ]
     },
     "metadata": {},
     "output_type": "display_data"
    },
    {
     "data": {
      "application/vnd.jupyter.widget-view+json": {
       "model_id": "4ef92777095f49c9acfe447708e098ec",
       "version_major": 2,
       "version_minor": 0
      },
      "text/plain": [
       "  0%|          | 0/15 [00:00<?, ?it/s]"
      ]
     },
     "metadata": {},
     "output_type": "display_data"
    },
    {
     "data": {
      "application/vnd.jupyter.widget-view+json": {
       "model_id": "dd17adfbc0ed455bb9f2814cdd551e75",
       "version_major": 2,
       "version_minor": 0
      },
      "text/plain": [
       "  0%|          | 0/15 [00:00<?, ?it/s]"
      ]
     },
     "metadata": {},
     "output_type": "display_data"
    },
    {
     "data": {
      "application/vnd.jupyter.widget-view+json": {
       "model_id": "2c63acae49834935b7357fdc3d2f2e43",
       "version_major": 2,
       "version_minor": 0
      },
      "text/plain": [
       "  0%|          | 0/15 [00:00<?, ?it/s]"
      ]
     },
     "metadata": {},
     "output_type": "display_data"
    },
    {
     "data": {
      "application/vnd.jupyter.widget-view+json": {
       "model_id": "b4cb3f2efd3f43129d53ed5a5d6d3754",
       "version_major": 2,
       "version_minor": 0
      },
      "text/plain": [
       "  0%|          | 0/15 [00:00<?, ?it/s]"
      ]
     },
     "metadata": {},
     "output_type": "display_data"
    },
    {
     "data": {
      "application/vnd.jupyter.widget-view+json": {
       "model_id": "5077ab30a6464ba0986722111d081436",
       "version_major": 2,
       "version_minor": 0
      },
      "text/plain": [
       "  0%|          | 0/15 [00:00<?, ?it/s]"
      ]
     },
     "metadata": {},
     "output_type": "display_data"
    },
    {
     "data": {
      "application/vnd.jupyter.widget-view+json": {
       "model_id": "37a819de18dc4211bbbb5d430db3a071",
       "version_major": 2,
       "version_minor": 0
      },
      "text/plain": [
       "  0%|          | 0/15 [00:00<?, ?it/s]"
      ]
     },
     "metadata": {},
     "output_type": "display_data"
    },
    {
     "data": {
      "application/vnd.jupyter.widget-view+json": {
       "model_id": "7315c7fcc7dd48bdb4b5dd6e04b3bc71",
       "version_major": 2,
       "version_minor": 0
      },
      "text/plain": [
       "  0%|          | 0/15 [00:00<?, ?it/s]"
      ]
     },
     "metadata": {},
     "output_type": "display_data"
    },
    {
     "data": {
      "application/vnd.jupyter.widget-view+json": {
       "model_id": "1afc0b997ad44094bffb6baef9f9d747",
       "version_major": 2,
       "version_minor": 0
      },
      "text/plain": [
       "  0%|          | 0/15 [00:00<?, ?it/s]"
      ]
     },
     "metadata": {},
     "output_type": "display_data"
    },
    {
     "data": {
      "application/vnd.jupyter.widget-view+json": {
       "model_id": "5dd2492eab484baeae167d6df44052ee",
       "version_major": 2,
       "version_minor": 0
      },
      "text/plain": [
       "  0%|          | 0/15 [00:00<?, ?it/s]"
      ]
     },
     "metadata": {},
     "output_type": "display_data"
    },
    {
     "data": {
      "application/vnd.jupyter.widget-view+json": {
       "model_id": "e53acb4b8b54487ead4c10eb2bfe501c",
       "version_major": 2,
       "version_minor": 0
      },
      "text/plain": [
       "  0%|          | 0/15 [00:00<?, ?it/s]"
      ]
     },
     "metadata": {},
     "output_type": "display_data"
    },
    {
     "data": {
      "application/vnd.jupyter.widget-view+json": {
       "model_id": "3187a77698444de5a05c7bb6288abf50",
       "version_major": 2,
       "version_minor": 0
      },
      "text/plain": [
       "  0%|          | 0/15 [00:00<?, ?it/s]"
      ]
     },
     "metadata": {},
     "output_type": "display_data"
    },
    {
     "data": {
      "application/vnd.jupyter.widget-view+json": {
       "model_id": "de419be53ae849f08c54ab33723b0980",
       "version_major": 2,
       "version_minor": 0
      },
      "text/plain": [
       "  0%|          | 0/15 [00:00<?, ?it/s]"
      ]
     },
     "metadata": {},
     "output_type": "display_data"
    },
    {
     "data": {
      "application/vnd.jupyter.widget-view+json": {
       "model_id": "86bf6519d1004944b5843f9b9ac8332a",
       "version_major": 2,
       "version_minor": 0
      },
      "text/plain": [
       "  0%|          | 0/15 [00:00<?, ?it/s]"
      ]
     },
     "metadata": {},
     "output_type": "display_data"
    },
    {
     "data": {
      "application/vnd.jupyter.widget-view+json": {
       "model_id": "8f36950266b54aca8f1171470f863f42",
       "version_major": 2,
       "version_minor": 0
      },
      "text/plain": [
       "  0%|          | 0/15 [00:00<?, ?it/s]"
      ]
     },
     "metadata": {},
     "output_type": "display_data"
    },
    {
     "data": {
      "application/vnd.jupyter.widget-view+json": {
       "model_id": "fc718260db1c4c5bb24ae75f8c4d10c6",
       "version_major": 2,
       "version_minor": 0
      },
      "text/plain": [
       "  0%|          | 0/15 [00:00<?, ?it/s]"
      ]
     },
     "metadata": {},
     "output_type": "display_data"
    },
    {
     "data": {
      "application/vnd.jupyter.widget-view+json": {
       "model_id": "c220671bc30e4d77bd8b5288337ed95f",
       "version_major": 2,
       "version_minor": 0
      },
      "text/plain": [
       "  0%|          | 0/15 [00:00<?, ?it/s]"
      ]
     },
     "metadata": {},
     "output_type": "display_data"
    },
    {
     "data": {
      "application/vnd.jupyter.widget-view+json": {
       "model_id": "d824ddaa2f7f424a995d1774074e4193",
       "version_major": 2,
       "version_minor": 0
      },
      "text/plain": [
       "  0%|          | 0/15 [00:00<?, ?it/s]"
      ]
     },
     "metadata": {},
     "output_type": "display_data"
    },
    {
     "data": {
      "application/vnd.jupyter.widget-view+json": {
       "model_id": "def10ce015c9438491c27ded6ce35d2b",
       "version_major": 2,
       "version_minor": 0
      },
      "text/plain": [
       "  0%|          | 0/15 [00:00<?, ?it/s]"
      ]
     },
     "metadata": {},
     "output_type": "display_data"
    },
    {
     "data": {
      "application/vnd.jupyter.widget-view+json": {
       "model_id": "0ff998cf7fe64f118714bd15c4367af0",
       "version_major": 2,
       "version_minor": 0
      },
      "text/plain": [
       "  0%|          | 0/15 [00:00<?, ?it/s]"
      ]
     },
     "metadata": {},
     "output_type": "display_data"
    },
    {
     "data": {
      "application/vnd.jupyter.widget-view+json": {
       "model_id": "3907ecaca8f94023b5279225e91290cd",
       "version_major": 2,
       "version_minor": 0
      },
      "text/plain": [
       "  0%|          | 0/15 [00:00<?, ?it/s]"
      ]
     },
     "metadata": {},
     "output_type": "display_data"
    },
    {
     "data": {
      "application/vnd.jupyter.widget-view+json": {
       "model_id": "6e83b86df6da40b8b691808697e53286",
       "version_major": 2,
       "version_minor": 0
      },
      "text/plain": [
       "  0%|          | 0/15 [00:00<?, ?it/s]"
      ]
     },
     "metadata": {},
     "output_type": "display_data"
    },
    {
     "data": {
      "application/vnd.jupyter.widget-view+json": {
       "model_id": "dac06edb61984db8a5e3a1cfd0f9a1d0",
       "version_major": 2,
       "version_minor": 0
      },
      "text/plain": [
       "  0%|          | 0/15 [00:00<?, ?it/s]"
      ]
     },
     "metadata": {},
     "output_type": "display_data"
    },
    {
     "data": {
      "application/vnd.jupyter.widget-view+json": {
       "model_id": "254881ef31284feb98503c83b47ab169",
       "version_major": 2,
       "version_minor": 0
      },
      "text/plain": [
       "  0%|          | 0/15 [00:00<?, ?it/s]"
      ]
     },
     "metadata": {},
     "output_type": "display_data"
    },
    {
     "data": {
      "application/vnd.jupyter.widget-view+json": {
       "model_id": "5bdf1816cfa447a5a751ec859ee81330",
       "version_major": 2,
       "version_minor": 0
      },
      "text/plain": [
       "  0%|          | 0/15 [00:00<?, ?it/s]"
      ]
     },
     "metadata": {},
     "output_type": "display_data"
    },
    {
     "data": {
      "application/vnd.jupyter.widget-view+json": {
       "model_id": "3654d1bb1f3742c180917edeef8f3c21",
       "version_major": 2,
       "version_minor": 0
      },
      "text/plain": [
       "  0%|          | 0/15 [00:00<?, ?it/s]"
      ]
     },
     "metadata": {},
     "output_type": "display_data"
    },
    {
     "data": {
      "application/vnd.jupyter.widget-view+json": {
       "model_id": "067113cd3c9a45f98175dfd1a5092fd0",
       "version_major": 2,
       "version_minor": 0
      },
      "text/plain": [
       "  0%|          | 0/15 [00:00<?, ?it/s]"
      ]
     },
     "metadata": {},
     "output_type": "display_data"
    },
    {
     "data": {
      "application/vnd.jupyter.widget-view+json": {
       "model_id": "ebeaba8de8e94458a677adb1e39520cb",
       "version_major": 2,
       "version_minor": 0
      },
      "text/plain": [
       "  0%|          | 0/15 [00:00<?, ?it/s]"
      ]
     },
     "metadata": {},
     "output_type": "display_data"
    },
    {
     "data": {
      "application/vnd.jupyter.widget-view+json": {
       "model_id": "eb00474a534243cc8fe24b8d3fd9328b",
       "version_major": 2,
       "version_minor": 0
      },
      "text/plain": [
       "  0%|          | 0/15 [00:00<?, ?it/s]"
      ]
     },
     "metadata": {},
     "output_type": "display_data"
    },
    {
     "data": {
      "application/vnd.jupyter.widget-view+json": {
       "model_id": "fb57e8ec8c914b168d08386e555c2f7a",
       "version_major": 2,
       "version_minor": 0
      },
      "text/plain": [
       "  0%|          | 0/15 [00:00<?, ?it/s]"
      ]
     },
     "metadata": {},
     "output_type": "display_data"
    },
    {
     "data": {
      "application/vnd.jupyter.widget-view+json": {
       "model_id": "fa41e2649e974042ad9cb6a6ad1aff21",
       "version_major": 2,
       "version_minor": 0
      },
      "text/plain": [
       "  0%|          | 0/15 [00:00<?, ?it/s]"
      ]
     },
     "metadata": {},
     "output_type": "display_data"
    },
    {
     "data": {
      "application/vnd.jupyter.widget-view+json": {
       "model_id": "a98179b469d74e4dabd504ab223520d8",
       "version_major": 2,
       "version_minor": 0
      },
      "text/plain": [
       "  0%|          | 0/15 [00:00<?, ?it/s]"
      ]
     },
     "metadata": {},
     "output_type": "display_data"
    },
    {
     "data": {
      "application/vnd.jupyter.widget-view+json": {
       "model_id": "4195f1503085494383f35e523b21c72d",
       "version_major": 2,
       "version_minor": 0
      },
      "text/plain": [
       "  0%|          | 0/15 [00:00<?, ?it/s]"
      ]
     },
     "metadata": {},
     "output_type": "display_data"
    },
    {
     "data": {
      "application/vnd.jupyter.widget-view+json": {
       "model_id": "6b6f83be4ab04af3a89f8bd67fc319bb",
       "version_major": 2,
       "version_minor": 0
      },
      "text/plain": [
       "  0%|          | 0/15 [00:00<?, ?it/s]"
      ]
     },
     "metadata": {},
     "output_type": "display_data"
    },
    {
     "data": {
      "application/vnd.jupyter.widget-view+json": {
       "model_id": "552f82875a72466b93b6caf4e543c895",
       "version_major": 2,
       "version_minor": 0
      },
      "text/plain": [
       "  0%|          | 0/15 [00:00<?, ?it/s]"
      ]
     },
     "metadata": {},
     "output_type": "display_data"
    },
    {
     "data": {
      "application/vnd.jupyter.widget-view+json": {
       "model_id": "f109611f36844fedb88569756a05da3a",
       "version_major": 2,
       "version_minor": 0
      },
      "text/plain": [
       "  0%|          | 0/15 [00:00<?, ?it/s]"
      ]
     },
     "metadata": {},
     "output_type": "display_data"
    },
    {
     "data": {
      "application/vnd.jupyter.widget-view+json": {
       "model_id": "059300e6ce4f4a1db9d0d91f656e6abf",
       "version_major": 2,
       "version_minor": 0
      },
      "text/plain": [
       "  0%|          | 0/15 [00:00<?, ?it/s]"
      ]
     },
     "metadata": {},
     "output_type": "display_data"
    },
    {
     "data": {
      "application/vnd.jupyter.widget-view+json": {
       "model_id": "0f01acec099642458b5d38279c5cfb14",
       "version_major": 2,
       "version_minor": 0
      },
      "text/plain": [
       "  0%|          | 0/15 [00:00<?, ?it/s]"
      ]
     },
     "metadata": {},
     "output_type": "display_data"
    },
    {
     "data": {
      "application/vnd.jupyter.widget-view+json": {
       "model_id": "4425527e541445f39c028b12e1f913c2",
       "version_major": 2,
       "version_minor": 0
      },
      "text/plain": [
       "  0%|          | 0/15 [00:00<?, ?it/s]"
      ]
     },
     "metadata": {},
     "output_type": "display_data"
    },
    {
     "data": {
      "application/vnd.jupyter.widget-view+json": {
       "model_id": "57b4494ec11847c6b2f45ed626eefcba",
       "version_major": 2,
       "version_minor": 0
      },
      "text/plain": [
       "  0%|          | 0/15 [00:00<?, ?it/s]"
      ]
     },
     "metadata": {},
     "output_type": "display_data"
    },
    {
     "data": {
      "application/vnd.jupyter.widget-view+json": {
       "model_id": "25a2e143ee36415d8eae63bade234519",
       "version_major": 2,
       "version_minor": 0
      },
      "text/plain": [
       "  0%|          | 0/15 [00:00<?, ?it/s]"
      ]
     },
     "metadata": {},
     "output_type": "display_data"
    },
    {
     "data": {
      "application/vnd.jupyter.widget-view+json": {
       "model_id": "66f67c2bf1df491cab7c3ab548269913",
       "version_major": 2,
       "version_minor": 0
      },
      "text/plain": [
       "  0%|          | 0/15 [00:00<?, ?it/s]"
      ]
     },
     "metadata": {},
     "output_type": "display_data"
    },
    {
     "data": {
      "application/vnd.jupyter.widget-view+json": {
       "model_id": "7a4ff3f0d5164751b559747a7dd97ff5",
       "version_major": 2,
       "version_minor": 0
      },
      "text/plain": [
       "  0%|          | 0/15 [00:00<?, ?it/s]"
      ]
     },
     "metadata": {},
     "output_type": "display_data"
    },
    {
     "data": {
      "application/vnd.jupyter.widget-view+json": {
       "model_id": "5a0478e0fb5d4a68a27ba3c62154869a",
       "version_major": 2,
       "version_minor": 0
      },
      "text/plain": [
       "  0%|          | 0/15 [00:00<?, ?it/s]"
      ]
     },
     "metadata": {},
     "output_type": "display_data"
    },
    {
     "data": {
      "application/vnd.jupyter.widget-view+json": {
       "model_id": "fb33463689d04898a4cef9f465a98d23",
       "version_major": 2,
       "version_minor": 0
      },
      "text/plain": [
       "  0%|          | 0/15 [00:00<?, ?it/s]"
      ]
     },
     "metadata": {},
     "output_type": "display_data"
    },
    {
     "data": {
      "application/vnd.jupyter.widget-view+json": {
       "model_id": "226e5a21009348f9b43da2d1a0f3def3",
       "version_major": 2,
       "version_minor": 0
      },
      "text/plain": [
       "  0%|          | 0/15 [00:00<?, ?it/s]"
      ]
     },
     "metadata": {},
     "output_type": "display_data"
    },
    {
     "data": {
      "application/vnd.jupyter.widget-view+json": {
       "model_id": "17ef41eafa0544c99ec8d88bb4baa749",
       "version_major": 2,
       "version_minor": 0
      },
      "text/plain": [
       "  0%|          | 0/15 [00:00<?, ?it/s]"
      ]
     },
     "metadata": {},
     "output_type": "display_data"
    },
    {
     "data": {
      "application/vnd.jupyter.widget-view+json": {
       "model_id": "5d38f254ca1a420e9799274b51d88b7e",
       "version_major": 2,
       "version_minor": 0
      },
      "text/plain": [
       "  0%|          | 0/15 [00:00<?, ?it/s]"
      ]
     },
     "metadata": {},
     "output_type": "display_data"
    },
    {
     "data": {
      "application/vnd.jupyter.widget-view+json": {
       "model_id": "42eba461e3954cf7a4537cdb8abda9c3",
       "version_major": 2,
       "version_minor": 0
      },
      "text/plain": [
       "  0%|          | 0/15 [00:00<?, ?it/s]"
      ]
     },
     "metadata": {},
     "output_type": "display_data"
    },
    {
     "data": {
      "application/vnd.jupyter.widget-view+json": {
       "model_id": "c8606578632f42f8a1de03dbb886866c",
       "version_major": 2,
       "version_minor": 0
      },
      "text/plain": [
       "  0%|          | 0/15 [00:00<?, ?it/s]"
      ]
     },
     "metadata": {},
     "output_type": "display_data"
    },
    {
     "data": {
      "application/vnd.jupyter.widget-view+json": {
       "model_id": "8325872fcdcc4a63ac31192846312258",
       "version_major": 2,
       "version_minor": 0
      },
      "text/plain": [
       "  0%|          | 0/15 [00:00<?, ?it/s]"
      ]
     },
     "metadata": {},
     "output_type": "display_data"
    },
    {
     "data": {
      "application/vnd.jupyter.widget-view+json": {
       "model_id": "6edbda0d31134ceb99a2a899b4d72ef5",
       "version_major": 2,
       "version_minor": 0
      },
      "text/plain": [
       "  0%|          | 0/15 [00:00<?, ?it/s]"
      ]
     },
     "metadata": {},
     "output_type": "display_data"
    },
    {
     "data": {
      "application/vnd.jupyter.widget-view+json": {
       "model_id": "6ac024a7c8e34ce78d18e29a9edf369c",
       "version_major": 2,
       "version_minor": 0
      },
      "text/plain": [
       "  0%|          | 0/15 [00:00<?, ?it/s]"
      ]
     },
     "metadata": {},
     "output_type": "display_data"
    },
    {
     "data": {
      "application/vnd.jupyter.widget-view+json": {
       "model_id": "7d4f32e3546f45ca866488aa0d0c9c37",
       "version_major": 2,
       "version_minor": 0
      },
      "text/plain": [
       "  0%|          | 0/15 [00:00<?, ?it/s]"
      ]
     },
     "metadata": {},
     "output_type": "display_data"
    },
    {
     "data": {
      "application/vnd.jupyter.widget-view+json": {
       "model_id": "a74b51e2e9d4415dab7801cddb6302b2",
       "version_major": 2,
       "version_minor": 0
      },
      "text/plain": [
       "  0%|          | 0/15 [00:00<?, ?it/s]"
      ]
     },
     "metadata": {},
     "output_type": "display_data"
    },
    {
     "data": {
      "application/vnd.jupyter.widget-view+json": {
       "model_id": "e0e366bdf24d4bcba3223d9a069498f2",
       "version_major": 2,
       "version_minor": 0
      },
      "text/plain": [
       "  0%|          | 0/15 [00:00<?, ?it/s]"
      ]
     },
     "metadata": {},
     "output_type": "display_data"
    },
    {
     "data": {
      "application/vnd.jupyter.widget-view+json": {
       "model_id": "46702ae3abb749b395d8cbb853d16ade",
       "version_major": 2,
       "version_minor": 0
      },
      "text/plain": [
       "  0%|          | 0/15 [00:00<?, ?it/s]"
      ]
     },
     "metadata": {},
     "output_type": "display_data"
    },
    {
     "data": {
      "application/vnd.jupyter.widget-view+json": {
       "model_id": "246df7aa257442f8b2d6ffe3ae8a4fb2",
       "version_major": 2,
       "version_minor": 0
      },
      "text/plain": [
       "  0%|          | 0/15 [00:00<?, ?it/s]"
      ]
     },
     "metadata": {},
     "output_type": "display_data"
    },
    {
     "data": {
      "application/vnd.jupyter.widget-view+json": {
       "model_id": "814233468b7e4591be869d66442a9d30",
       "version_major": 2,
       "version_minor": 0
      },
      "text/plain": [
       "  0%|          | 0/15 [00:00<?, ?it/s]"
      ]
     },
     "metadata": {},
     "output_type": "display_data"
    },
    {
     "data": {
      "application/vnd.jupyter.widget-view+json": {
       "model_id": "6cd8894fe9b347d39d697e1b21bad7bd",
       "version_major": 2,
       "version_minor": 0
      },
      "text/plain": [
       "  0%|          | 0/15 [00:00<?, ?it/s]"
      ]
     },
     "metadata": {},
     "output_type": "display_data"
    },
    {
     "data": {
      "application/vnd.jupyter.widget-view+json": {
       "model_id": "e35d52fffcdd489ea637b9175d6572a4",
       "version_major": 2,
       "version_minor": 0
      },
      "text/plain": [
       "  0%|          | 0/15 [00:00<?, ?it/s]"
      ]
     },
     "metadata": {},
     "output_type": "display_data"
    },
    {
     "data": {
      "application/vnd.jupyter.widget-view+json": {
       "model_id": "819755e65fdb43a8b05da2e7d90b3c2a",
       "version_major": 2,
       "version_minor": 0
      },
      "text/plain": [
       "  0%|          | 0/15 [00:00<?, ?it/s]"
      ]
     },
     "metadata": {},
     "output_type": "display_data"
    },
    {
     "data": {
      "application/vnd.jupyter.widget-view+json": {
       "model_id": "f3dc371fbd1a401a88d6a2f14f8dc3c8",
       "version_major": 2,
       "version_minor": 0
      },
      "text/plain": [
       "  0%|          | 0/15 [00:00<?, ?it/s]"
      ]
     },
     "metadata": {},
     "output_type": "display_data"
    },
    {
     "data": {
      "application/vnd.jupyter.widget-view+json": {
       "model_id": "427478cbb92b46bfacab130cdc7b5a23",
       "version_major": 2,
       "version_minor": 0
      },
      "text/plain": [
       "  0%|          | 0/15 [00:00<?, ?it/s]"
      ]
     },
     "metadata": {},
     "output_type": "display_data"
    },
    {
     "data": {
      "application/vnd.jupyter.widget-view+json": {
       "model_id": "1dc4917c509744198e9883a29f06f611",
       "version_major": 2,
       "version_minor": 0
      },
      "text/plain": [
       "  0%|          | 0/15 [00:00<?, ?it/s]"
      ]
     },
     "metadata": {},
     "output_type": "display_data"
    },
    {
     "data": {
      "application/vnd.jupyter.widget-view+json": {
       "model_id": "86c18f8bb5d94395bf94caa682cff3bc",
       "version_major": 2,
       "version_minor": 0
      },
      "text/plain": [
       "  0%|          | 0/15 [00:00<?, ?it/s]"
      ]
     },
     "metadata": {},
     "output_type": "display_data"
    },
    {
     "data": {
      "application/vnd.jupyter.widget-view+json": {
       "model_id": "798877a4b3c545dcb53b7459dc9c9b9b",
       "version_major": 2,
       "version_minor": 0
      },
      "text/plain": [
       "  0%|          | 0/15 [00:00<?, ?it/s]"
      ]
     },
     "metadata": {},
     "output_type": "display_data"
    },
    {
     "data": {
      "application/vnd.jupyter.widget-view+json": {
       "model_id": "608aa67476024c71a29928b3a86c11cf",
       "version_major": 2,
       "version_minor": 0
      },
      "text/plain": [
       "  0%|          | 0/15 [00:00<?, ?it/s]"
      ]
     },
     "metadata": {},
     "output_type": "display_data"
    },
    {
     "data": {
      "application/vnd.jupyter.widget-view+json": {
       "model_id": "b2a1a6ffef3c4637b2f231688954392f",
       "version_major": 2,
       "version_minor": 0
      },
      "text/plain": [
       "  0%|          | 0/15 [00:00<?, ?it/s]"
      ]
     },
     "metadata": {},
     "output_type": "display_data"
    },
    {
     "data": {
      "application/vnd.jupyter.widget-view+json": {
       "model_id": "340cee9bc1f148ee92d5aba2600bcf0e",
       "version_major": 2,
       "version_minor": 0
      },
      "text/plain": [
       "  0%|          | 0/15 [00:00<?, ?it/s]"
      ]
     },
     "metadata": {},
     "output_type": "display_data"
    },
    {
     "data": {
      "application/vnd.jupyter.widget-view+json": {
       "model_id": "dd2410241ba8457381ff5940297c685d",
       "version_major": 2,
       "version_minor": 0
      },
      "text/plain": [
       "  0%|          | 0/15 [00:00<?, ?it/s]"
      ]
     },
     "metadata": {},
     "output_type": "display_data"
    },
    {
     "data": {
      "application/vnd.jupyter.widget-view+json": {
       "model_id": "c4c1a4185f9a4cdab8e5f68aeb3bc7e1",
       "version_major": 2,
       "version_minor": 0
      },
      "text/plain": [
       "  0%|          | 0/15 [00:00<?, ?it/s]"
      ]
     },
     "metadata": {},
     "output_type": "display_data"
    },
    {
     "data": {
      "application/vnd.jupyter.widget-view+json": {
       "model_id": "63047fda3a1e444f9624aff08cad4519",
       "version_major": 2,
       "version_minor": 0
      },
      "text/plain": [
       "  0%|          | 0/15 [00:00<?, ?it/s]"
      ]
     },
     "metadata": {},
     "output_type": "display_data"
    },
    {
     "data": {
      "application/vnd.jupyter.widget-view+json": {
       "model_id": "cb3c60e516b04d399b80caf89c76e9f7",
       "version_major": 2,
       "version_minor": 0
      },
      "text/plain": [
       "  0%|          | 0/15 [00:00<?, ?it/s]"
      ]
     },
     "metadata": {},
     "output_type": "display_data"
    },
    {
     "data": {
      "application/vnd.jupyter.widget-view+json": {
       "model_id": "2a3a01200f984a088ffdcc28bed156a5",
       "version_major": 2,
       "version_minor": 0
      },
      "text/plain": [
       "  0%|          | 0/15 [00:00<?, ?it/s]"
      ]
     },
     "metadata": {},
     "output_type": "display_data"
    },
    {
     "data": {
      "application/vnd.jupyter.widget-view+json": {
       "model_id": "0a4055f17bba4ef5a4827eb956b2b5cb",
       "version_major": 2,
       "version_minor": 0
      },
      "text/plain": [
       "  0%|          | 0/15 [00:00<?, ?it/s]"
      ]
     },
     "metadata": {},
     "output_type": "display_data"
    },
    {
     "data": {
      "application/vnd.jupyter.widget-view+json": {
       "model_id": "49244431964b45ed87287a03e6912296",
       "version_major": 2,
       "version_minor": 0
      },
      "text/plain": [
       "  0%|          | 0/15 [00:00<?, ?it/s]"
      ]
     },
     "metadata": {},
     "output_type": "display_data"
    },
    {
     "data": {
      "application/vnd.jupyter.widget-view+json": {
       "model_id": "80662a04d35d4bdda046bb5e47ab70c1",
       "version_major": 2,
       "version_minor": 0
      },
      "text/plain": [
       "  0%|          | 0/15 [00:00<?, ?it/s]"
      ]
     },
     "metadata": {},
     "output_type": "display_data"
    },
    {
     "data": {
      "application/vnd.jupyter.widget-view+json": {
       "model_id": "db512ea8454845908cca9856a9e03029",
       "version_major": 2,
       "version_minor": 0
      },
      "text/plain": [
       "  0%|          | 0/15 [00:00<?, ?it/s]"
      ]
     },
     "metadata": {},
     "output_type": "display_data"
    },
    {
     "data": {
      "application/vnd.jupyter.widget-view+json": {
       "model_id": "8e93e7998fa94904aa83b7cc81480f70",
       "version_major": 2,
       "version_minor": 0
      },
      "text/plain": [
       "  0%|          | 0/15 [00:00<?, ?it/s]"
      ]
     },
     "metadata": {},
     "output_type": "display_data"
    },
    {
     "data": {
      "application/vnd.jupyter.widget-view+json": {
       "model_id": "60054404acb94f5585f1da5652391de6",
       "version_major": 2,
       "version_minor": 0
      },
      "text/plain": [
       "  0%|          | 0/15 [00:00<?, ?it/s]"
      ]
     },
     "metadata": {},
     "output_type": "display_data"
    },
    {
     "data": {
      "application/vnd.jupyter.widget-view+json": {
       "model_id": "4792e9dbf4bc4c2d8a4c5d84028a5bad",
       "version_major": 2,
       "version_minor": 0
      },
      "text/plain": [
       "  0%|          | 0/15 [00:00<?, ?it/s]"
      ]
     },
     "metadata": {},
     "output_type": "display_data"
    },
    {
     "data": {
      "application/vnd.jupyter.widget-view+json": {
       "model_id": "992e0ca826094013b5018ab941962d2b",
       "version_major": 2,
       "version_minor": 0
      },
      "text/plain": [
       "  0%|          | 0/15 [00:00<?, ?it/s]"
      ]
     },
     "metadata": {},
     "output_type": "display_data"
    },
    {
     "data": {
      "application/vnd.jupyter.widget-view+json": {
       "model_id": "872c8e6859fe49acb14a3e8cfbd2339b",
       "version_major": 2,
       "version_minor": 0
      },
      "text/plain": [
       "  0%|          | 0/15 [00:00<?, ?it/s]"
      ]
     },
     "metadata": {},
     "output_type": "display_data"
    },
    {
     "name": "stdout",
     "output_type": "stream",
     "text": [
      "\n",
      "Best params: {'n_factors': 200, 'alpha': 60.0, 'regularization': 1.0}\n",
      "Best NDCG@100: 0.1536\n"
     ]
    }
   ],
   "source": [
    "best_score_ALS = 0\n",
    "best_params_ALS = {}\n",
    "\n",
    "# Перебор комбинаций гиперпараметров\n",
    "for n_factors in param_grid['n_factors']:\n",
    "    for alpha in param_grid['alpha']:\n",
    "        for reg in param_grid['regularization']:\n",
    "            # Обучение модели\n",
    "            model = AlternatingLeastSquares(\n",
    "                factors=n_factors,\n",
    "                regularization=reg,\n",
    "                alpha=alpha,\n",
    "                iterations=15,\n",
    "                random_state=42\n",
    "            )\n",
    "            model.fit(csr_matrix(interactions))\n",
    "            \n",
    "            # Получение рекомендаций\n",
    "            recommendations = make_als_recommendations(\n",
    "                interactions,\n",
    "                n_factors=n_factors,\n",
    "                alpha=alpha,\n",
    "                regularization=reg\n",
    "            )\n",
    "            \n",
    "            score = eval_ndcg(recommendations, df_test)\n",
    "\n",
    "            if score > best_score_ALS:\n",
    "                best_score_ALS = score\n",
    "                best_params_ALS = {'n_factors': n_factors, 'alpha': alpha, 'regularization': reg}\n",
    "\n",
    "print(f\"\\nBest params: {best_params_ALS}\")\n",
    "print(f\"Best NDCG@100: {best_score_ALS:.4f}\")"
   ]
  },
  {
   "cell_type": "markdown",
   "id": "81f3b1cc-760b-4d6a-ab8a-aca57b7b6dfe",
   "metadata": {},
   "source": [
    "##### Задание 3.2. Сделайте объяснение рекомендаций для нескольких юзеров(als.explain). Воспользуйтесь файлом movies.dat чтобы перейти от индексов фильмов к их названием"
   ]
  },
  {
   "cell_type": "code",
   "execution_count": 31,
   "id": "ddd9a956-d2f5-4560-8d0c-c72164ebdfa8",
   "metadata": {},
   "outputs": [],
   "source": [
    "#your code here\n",
    "movies = pd.read_csv(\n",
    "    'ml-1m/movies.dat', \n",
    "    sep='::', \n",
    "    names=['item_id', 'title', 'genre'], \n",
    "    engine='python',\n",
    "    encoding='latin-1'\n",
    ")"
   ]
  },
  {
   "cell_type": "code",
   "execution_count": 32,
   "id": "83f9d693",
   "metadata": {},
   "outputs": [
    {
     "data": {
      "text/html": [
       "<div>\n",
       "<style scoped>\n",
       "    .dataframe tbody tr th:only-of-type {\n",
       "        vertical-align: middle;\n",
       "    }\n",
       "\n",
       "    .dataframe tbody tr th {\n",
       "        vertical-align: top;\n",
       "    }\n",
       "\n",
       "    .dataframe thead th {\n",
       "        text-align: right;\n",
       "    }\n",
       "</style>\n",
       "<table border=\"1\" class=\"dataframe\">\n",
       "  <thead>\n",
       "    <tr style=\"text-align: right;\">\n",
       "      <th></th>\n",
       "      <th>item_id</th>\n",
       "      <th>title</th>\n",
       "      <th>genre</th>\n",
       "    </tr>\n",
       "  </thead>\n",
       "  <tbody>\n",
       "    <tr>\n",
       "      <th>0</th>\n",
       "      <td>1</td>\n",
       "      <td>Toy Story (1995)</td>\n",
       "      <td>Animation|Children's|Comedy</td>\n",
       "    </tr>\n",
       "    <tr>\n",
       "      <th>1</th>\n",
       "      <td>2</td>\n",
       "      <td>Jumanji (1995)</td>\n",
       "      <td>Adventure|Children's|Fantasy</td>\n",
       "    </tr>\n",
       "    <tr>\n",
       "      <th>2</th>\n",
       "      <td>3</td>\n",
       "      <td>Grumpier Old Men (1995)</td>\n",
       "      <td>Comedy|Romance</td>\n",
       "    </tr>\n",
       "    <tr>\n",
       "      <th>3</th>\n",
       "      <td>4</td>\n",
       "      <td>Waiting to Exhale (1995)</td>\n",
       "      <td>Comedy|Drama</td>\n",
       "    </tr>\n",
       "    <tr>\n",
       "      <th>4</th>\n",
       "      <td>5</td>\n",
       "      <td>Father of the Bride Part II (1995)</td>\n",
       "      <td>Comedy</td>\n",
       "    </tr>\n",
       "  </tbody>\n",
       "</table>\n",
       "</div>"
      ],
      "text/plain": [
       "   item_id                               title                         genre\n",
       "0        1                    Toy Story (1995)   Animation|Children's|Comedy\n",
       "1        2                      Jumanji (1995)  Adventure|Children's|Fantasy\n",
       "2        3             Grumpier Old Men (1995)                Comedy|Romance\n",
       "3        4            Waiting to Exhale (1995)                  Comedy|Drama\n",
       "4        5  Father of the Bride Part II (1995)                        Comedy"
      ]
     },
     "execution_count": 32,
     "metadata": {},
     "output_type": "execute_result"
    }
   ],
   "source": [
    "movies.head()"
   ]
  },
  {
   "cell_type": "code",
   "execution_count": 33,
   "id": "ed85d6b8",
   "metadata": {},
   "outputs": [
    {
     "data": {
      "application/vnd.jupyter.widget-view+json": {
       "model_id": "de565b93942c4a38a5d69e2045827fcd",
       "version_major": 2,
       "version_minor": 0
      },
      "text/plain": [
       "  0%|          | 0/15 [00:00<?, ?it/s]"
      ]
     },
     "metadata": {},
     "output_type": "display_data"
    }
   ],
   "source": [
    "# Инициализация модели ALS\n",
    "model_ALS = AlternatingLeastSquares(factors = 50, alpha = 60.0, regularization = 0.01)\n",
    "model_ALS.fit(csr_matrix(interactions))"
   ]
  },
  {
   "cell_type": "code",
   "execution_count": 34,
   "id": "3c808283",
   "metadata": {},
   "outputs": [],
   "source": [
    "def explain_recommendations(user_id, model, movies_df, interactions_matrix, top_n=3):\n",
    "    # Проверяем, что user_id существует в матрице взаимодействий\n",
    "    if user_id >= interactions_matrix.shape[0]:\n",
    "        print(f\"Пользователь {user_id} отсутствует в матрице взаимодействий.\")\n",
    "        return\n",
    "    \n",
    "    # Получаем взаимодействия для конкретного пользователя\n",
    "    user_items = csr_matrix(interactions_matrix[user_id].reshape(1, -1))\n",
    "    \n",
    "    # Проверяем, что пользователь взаимодействовал хотя бы с одним фильмом\n",
    "    if user_items.nnz == 0:\n",
    "        print(f\"Пользователь {user_id} не взаимодействовал ни с одним фильмом.\")\n",
    "        return\n",
    "    \n",
    "    # Получаем рекомендации\n",
    "    try:\n",
    "        recommended_items, scores = model.recommend(\n",
    "            userid=user_id,\n",
    "            user_items=user_items,\n",
    "            N=top_n,\n",
    "            filter_already_liked_items=True\n",
    "        )\n",
    "    except Exception as e:\n",
    "        print(f\"Ошибка при получении рекомендаций для пользователя {user_id}: {e}\")\n",
    "        return\n",
    "    \n",
    "    for item_id, score in zip(recommended_items, scores):\n",
    "        try:\n",
    "            # Преобразуем внутренний индекс в оригинальный item_id\n",
    "            original_item_id = item_le.inverse_transform([item_id])[0]\n",
    "            title = movies_df[movies_df['item_id'] == original_item_id]['title'].values[0]\n",
    "            print(f\" - {title} (score: {score:.2f})\")\n",
    "            \n",
    "            # Объяснение рекомендации\n",
    "            result = model.explain(\n",
    "                userid=user_id,\n",
    "                user_items=user_items,\n",
    "                itemid=item_id,\n",
    "                N=5\n",
    "            )\n",
    "            \n",
    "            # Распаковываем только нужные значения\n",
    "            total_score, factors = result[0], result[1]\n",
    "            \n",
    "            print(\"   Основные факторы влияния:\")\n",
    "            for factor_id, factor_score in factors:\n",
    "                try:\n",
    "                    factor_original_id = item_le.inverse_transform([factor_id])[0]\n",
    "                    factor_title = movies_df[movies_df['item_id'] == factor_original_id]['title'].values[0]\n",
    "                    print(f\"   * {factor_title} (вклад: {factor_score:.2f})\")\n",
    "                except Exception as e:\n",
    "                    print(f\"   Ошибка при обработке фактора {factor_id}: {e}\")\n",
    "        except Exception as e:\n",
    "            print(f\"Ошибка при обработке фильма {item_id}: {e}\")\n"
   ]
  },
  {
   "cell_type": "code",
   "execution_count": 35,
   "id": "5c3de581",
   "metadata": {},
   "outputs": [
    {
     "name": "stdout",
     "output_type": "stream",
     "text": [
      " - Straight Story, The (1999) (score: 1.40)\n",
      "   Основные факторы влияния:\n",
      "   * Secrets & Lies (1996) (вклад: 0.36)\n",
      "   * Trip to Bountiful, The (1985) (вклад: 0.26)\n",
      "   * Almost Famous (2000) (вклад: 0.22)\n",
      "   * Hard Day's Night, A (1964) (вклад: 0.21)\n",
      "   * Midnight Cowboy (1969) (вклад: 0.20)\n",
      " - Bicycle Thief, The (Ladri di biciclette) (1948) (score: 1.36)\n",
      "   Основные факторы влияния:\n",
      "   * Decline of Western Civilization Part II: The Metal Years, The (1988) (вклад: 0.21)\n",
      "   * Dancer in the Dark (2000) (вклад: 0.20)\n",
      "   * 400 Blows, The (Les Quatre cents coups) (1959) (вклад: 0.18)\n",
      "   * Raise the Red Lantern (1991) (вклад: 0.16)\n",
      "   * Double Indemnity (1944) (вклад: 0.16)\n",
      " - Fantasia 2000 (1999) (score: 1.34)\n",
      "   Основные факторы влияния:\n",
      "   * Some Like It Hot (1959) (вклад: 0.27)\n",
      "   * Limbo (1999) (вклад: 0.24)\n",
      "   * Trip to Bountiful, The (1985) (вклад: 0.24)\n",
      "   * Dancer in the Dark (2000) (вклад: 0.23)\n",
      "   * Misérables, Les (1995) (вклад: 0.20)\n",
      " - Midnight Cowboy (1969) (score: 1.21)\n",
      "Ошибка при обработке фильма 1424: index 2 is out of bounds for axis 0 with size 2\n",
      " - Dog Day Afternoon (1975) (score: 1.17)\n",
      "Ошибка при обработке фильма 2544: index 2 is out of bounds for axis 0 with size 2\n",
      " - Breaking Away (1979) (score: 1.13)\n",
      "Ошибка при обработке фильма 2541: index 2 is out of bounds for axis 0 with size 2\n",
      " - Lawrence of Arabia (1962) (score: 1.12)\n",
      "Ошибка при обработке фильма 883: index 2 is out of bounds for axis 0 with size 2\n",
      " - French Connection, The (1971) (score: 1.11)\n",
      "Ошибка при обработке фильма 1425: index 2 is out of bounds for axis 0 with size 2\n",
      " - Breakfast at Tiffany's (1961) (score: 1.10)\n",
      "Ошибка при обработке фильма 664: index 2 is out of bounds for axis 0 with size 2\n"
     ]
    }
   ],
   "source": [
    "# Выбираем первых 3 пользователей\n",
    "for user in range(3):\n",
    "    explain_recommendations(user, model_ALS, movies, interactions)"
   ]
  },
  {
   "cell_type": "markdown",
   "id": "d7d7ea0c-8288-45f5-83d4-9761a8952669",
   "metadata": {},
   "source": [
    "##### Задание 4. До этого мы работали с рейтингами, но как обсуждалось на лекции, implicit ALS отлично работает и с implicit фидбэком. Давайте попробуем преобразовать наш датасет(трейн и тест) следующим образом\n",
    "\n",
    "1. Бинаризуем все рейтинги(заменим любую интеракцию пользователя на 1)\n",
    "2. Заменим на 1 только рейтинги 4 и 5, а рейтинг ниже 4 заменим на 0\n",
    "3. Заменим на 1 только рейтинги 4 и 5, а рейтинг ниже 4 заменим на -1\n",
    "4. Заменим на 1 только рейтинги 4 и 5, а рейтинг ниже 4 заменим на -1 и добавим сглаживание по времени. То есть чем дальше была интеракция от максимальной даты трейна, тем с меньшим весом мы будем ее учитывать(например можно интеракции за последний месяц брать в исходном виде, и с каждым месяцем в прошлое умножать их на какой-нибудь коэффициент меньший 1). Таким образом более старые интеракции пользователя будут вносить меньший вклад в его интересы\n",
    "5. Придумайте свой вариант(опционально)\n",
    "\n",
    "Для каждой полученной матрицы обучите iALS и SVD и сравните их результаты между собой(преобразовывать нужно только обучающую выборку, тестовую оставляем неизменной)"
   ]
  },
  {
   "cell_type": "code",
   "execution_count": 36,
   "id": "c839fd09-eca4-43e0-a209-2da63775f79f",
   "metadata": {},
   "outputs": [],
   "source": [
    "#your code here"
   ]
  },
  {
   "cell_type": "code",
   "execution_count": 37,
   "id": "ecbbf83f",
   "metadata": {},
   "outputs": [
    {
     "data": {
      "text/html": [
       "<div>\n",
       "<style scoped>\n",
       "    .dataframe tbody tr th:only-of-type {\n",
       "        vertical-align: middle;\n",
       "    }\n",
       "\n",
       "    .dataframe tbody tr th {\n",
       "        vertical-align: top;\n",
       "    }\n",
       "\n",
       "    .dataframe thead th {\n",
       "        text-align: right;\n",
       "    }\n",
       "</style>\n",
       "<table border=\"1\" class=\"dataframe\">\n",
       "  <thead>\n",
       "    <tr style=\"text-align: right;\">\n",
       "      <th></th>\n",
       "      <th>user_id</th>\n",
       "      <th>item_id</th>\n",
       "      <th>rating</th>\n",
       "      <th>datetime</th>\n",
       "    </tr>\n",
       "  </thead>\n",
       "  <tbody>\n",
       "    <tr>\n",
       "      <th>100409</th>\n",
       "      <td>0</td>\n",
       "      <td>2994</td>\n",
       "      <td>3</td>\n",
       "      <td>2000-11-30 23:49:23</td>\n",
       "    </tr>\n",
       "    <tr>\n",
       "      <th>100411</th>\n",
       "      <td>0</td>\n",
       "      <td>929</td>\n",
       "      <td>4</td>\n",
       "      <td>2000-11-30 23:52:33</td>\n",
       "    </tr>\n",
       "    <tr>\n",
       "      <th>100412</th>\n",
       "      <td>0</td>\n",
       "      <td>567</td>\n",
       "      <td>4</td>\n",
       "      <td>2000-11-30 23:51:54</td>\n",
       "    </tr>\n",
       "    <tr>\n",
       "      <th>100415</th>\n",
       "      <td>0</td>\n",
       "      <td>3005</td>\n",
       "      <td>1</td>\n",
       "      <td>2000-11-30 23:58:06</td>\n",
       "    </tr>\n",
       "    <tr>\n",
       "      <th>100416</th>\n",
       "      <td>0</td>\n",
       "      <td>3006</td>\n",
       "      <td>4</td>\n",
       "      <td>2000-11-30 23:57:50</td>\n",
       "    </tr>\n",
       "  </tbody>\n",
       "</table>\n",
       "</div>"
      ],
      "text/plain": [
       "        user_id  item_id  rating            datetime\n",
       "100409        0     2994       3 2000-11-30 23:49:23\n",
       "100411        0      929       4 2000-11-30 23:52:33\n",
       "100412        0      567       4 2000-11-30 23:51:54\n",
       "100415        0     3005       1 2000-11-30 23:58:06\n",
       "100416        0     3006       4 2000-11-30 23:57:50"
      ]
     },
     "execution_count": 37,
     "metadata": {},
     "output_type": "execute_result"
    }
   ],
   "source": [
    "df_train.head()"
   ]
  },
  {
   "cell_type": "code",
   "execution_count": 38,
   "id": "68612ced",
   "metadata": {},
   "outputs": [
    {
     "data": {
      "text/html": [
       "<div>\n",
       "<style scoped>\n",
       "    .dataframe tbody tr th:only-of-type {\n",
       "        vertical-align: middle;\n",
       "    }\n",
       "\n",
       "    .dataframe tbody tr th {\n",
       "        vertical-align: top;\n",
       "    }\n",
       "\n",
       "    .dataframe thead th {\n",
       "        text-align: right;\n",
       "    }\n",
       "</style>\n",
       "<table border=\"1\" class=\"dataframe\">\n",
       "  <thead>\n",
       "    <tr style=\"text-align: right;\">\n",
       "      <th></th>\n",
       "      <th>user_id</th>\n",
       "      <th>item_id</th>\n",
       "      <th>rating</th>\n",
       "      <th>datetime</th>\n",
       "    </tr>\n",
       "  </thead>\n",
       "  <tbody>\n",
       "    <tr>\n",
       "      <th>100406</th>\n",
       "      <td>0</td>\n",
       "      <td>925</td>\n",
       "      <td>4</td>\n",
       "      <td>2000-12-01 00:02:42</td>\n",
       "    </tr>\n",
       "    <tr>\n",
       "      <th>100407</th>\n",
       "      <td>0</td>\n",
       "      <td>926</td>\n",
       "      <td>4</td>\n",
       "      <td>2000-12-01 00:03:23</td>\n",
       "    </tr>\n",
       "    <tr>\n",
       "      <th>100408</th>\n",
       "      <td>0</td>\n",
       "      <td>2992</td>\n",
       "      <td>3</td>\n",
       "      <td>2000-12-01 00:03:23</td>\n",
       "    </tr>\n",
       "    <tr>\n",
       "      <th>100410</th>\n",
       "      <td>0</td>\n",
       "      <td>927</td>\n",
       "      <td>4</td>\n",
       "      <td>2000-12-01 00:02:42</td>\n",
       "    </tr>\n",
       "    <tr>\n",
       "      <th>100413</th>\n",
       "      <td>0</td>\n",
       "      <td>936</td>\n",
       "      <td>4</td>\n",
       "      <td>2000-12-01 00:03:23</td>\n",
       "    </tr>\n",
       "  </tbody>\n",
       "</table>\n",
       "</div>"
      ],
      "text/plain": [
       "        user_id  item_id  rating            datetime\n",
       "100406        0      925       4 2000-12-01 00:02:42\n",
       "100407        0      926       4 2000-12-01 00:03:23\n",
       "100408        0     2992       3 2000-12-01 00:03:23\n",
       "100410        0      927       4 2000-12-01 00:02:42\n",
       "100413        0      936       4 2000-12-01 00:03:23"
      ]
     },
     "execution_count": 38,
     "metadata": {},
     "output_type": "execute_result"
    }
   ],
   "source": [
    "df_test.head()"
   ]
  },
  {
   "cell_type": "code",
   "execution_count": 39,
   "id": "816538af",
   "metadata": {},
   "outputs": [],
   "source": [
    "# Загружаем данные (используем уже готовые df_train и df_test)\n",
    "def preprocess_data(df_train, df_test, mode=\"binary\", smoothing=False):\n",
    "    \"\"\"\n",
    "    Преобразует данные по выбранному способу:\n",
    "    - \"binary\" - все рейтинги заменяются на 1\n",
    "    - \"pos_neg\" - рейтинги 4 и 5 -> 1, остальные -> 0\n",
    "    - \"pos_neg_neg\" - рейтинги 4 и 5 -> 1, остальные -> -1\n",
    "    - \"time_smooth\" - рейтинги 4 и 5 -> 1, остальные -> -1 с учетом времени\n",
    "    \"\"\"\n",
    "    if mode == \"binary\":\n",
    "        df_train[\"rating\"] = 1\n",
    "    elif mode == \"pos_neg\":\n",
    "        df_train[\"rating\"] = (df_train[\"rating\"] >= 4).astype(int)\n",
    "    elif mode == \"pos_neg_neg\":\n",
    "        df_train[\"rating\"] = np.where(df_train[\"rating\"] >= 4, 1, -1)\n",
    "    elif mode == \"time_smooth\":\n",
    "        max_time = df_train[\"datetime\"].max()\n",
    "        df_train[\"rating\"] = np.where(df_train[\"rating\"] >= 4, 1, -1)\n",
    "        df_train[\"rating\"] *= np.exp(-(max_time - df_train[\"datetime\"]).dt.days / 30)\n",
    "    \n",
    "    return df_train "
   ]
  },
  {
   "cell_type": "code",
   "execution_count": 40,
   "id": "b5a7b163",
   "metadata": {},
   "outputs": [],
   "source": [
    "# Функция создания разреженной матрицы\n",
    "def create_sparse_matrix(df, num_users, num_items):\n",
    "    rows, cols, values = df[\"user_id\"], df[\"item_id\"], df[\"rating\"].astype(float)  \n",
    "    return coo_matrix((values, (rows, cols)), shape=(num_users, num_items))\n",
    "\n",
    "# Функция для обучения ALS\n",
    "def train_als(sparse_matrix, factors=20, regularization=0.1, iterations=10):\n",
    "    model = AlternatingLeastSquares(factors=factors, regularization=regularization, iterations=iterations)\n",
    "    model.fit(sparse_matrix)\n",
    "    return model\n",
    "\n",
    "# Функция для обучения SVD\n",
    "def train_svd(sparse_matrix, k=20):\n",
    "    U, sigma, Vt = svds(sparse_matrix, k=k)\n",
    "    return U, sigma, Vt"
   ]
  },
  {
   "cell_type": "code",
   "execution_count": 41,
   "id": "6d152570",
   "metadata": {},
   "outputs": [],
   "source": [
    "def predict_als(model, df_test, num_users, num_items):\n",
    "    user_items = create_sparse_matrix(df_test, num_users, num_items)\n",
    "    predictions = []\n",
    "    actuals = []\n",
    "    \n",
    "    for user in df_test[\"user_id\"].unique():\n",
    "        user_items_indices = df_test[df_test[\"user_id\"] == user][\"item_id\"].values\n",
    "        preds = model.recommend(user, user_items, N=len(user_items_indices), filter_already_liked_items=False)\n",
    "\n",
    "        if not preds:  # Проверяем, что preds не пуст\n",
    "            predictions.append(np.zeros(num_items))  # Добавляем нулевой вектор\n",
    "            actuals.append(np.zeros(num_items))\n",
    "            continue  # Пропускаем пустые предсказания\n",
    "        \n",
    "        pred_scores = np.zeros(num_items)\n",
    "\n",
    "        for pred in preds:\n",
    "            if isinstance(pred, (tuple, list)) and len(pred) >= 2:\n",
    "                item, score = int(pred[0]), pred[1]\n",
    "                if item < num_items:  # Проверяем, чтобы индекс не выходил за границы\n",
    "                    pred_scores[item] = score\n",
    "        \n",
    "        true_scores = np.zeros(num_items)\n",
    "        true_scores[user_items_indices] = 1  \n",
    "\n",
    "        predictions.append(pred_scores)\n",
    "        actuals.append(true_scores)\n",
    "    \n",
    "    return predictions, actuals\n"
   ]
  },
  {
   "cell_type": "code",
   "execution_count": 42,
   "id": "a0b9a178",
   "metadata": {},
   "outputs": [],
   "source": [
    "# Функция для предсказания с SVD\n",
    "def predict_svd(U, sigma, Vt, df_test):\n",
    "    preds = np.dot(np.dot(U, np.diag(sigma)), Vt)  # Восстанавливаем матрицу рейтингов\n",
    "    predictions = []\n",
    "    actuals = []\n",
    "    \n",
    "    for user in df_test[\"user_id\"].unique():\n",
    "        user_items_indices = df_test[df_test[\"user_id\"] == user][\"item_id\"].values\n",
    "        pred_scores = preds[user, :]  # Берем предсказанные значения\n",
    "        \n",
    "        true_scores = np.zeros(preds.shape[1])\n",
    "        true_scores[user_items_indices] = 1  \n",
    "\n",
    "        predictions.append(pred_scores)\n",
    "        actuals.append(true_scores)\n",
    "    \n",
    "    return predictions, actuals"
   ]
  },
  {
   "cell_type": "code",
   "execution_count": 43,
   "id": "ec890e25",
   "metadata": {},
   "outputs": [],
   "source": [
    "modes = [\"binary\", \"pos_neg\", \"pos_neg_neg\", \"time_smooth\"]\n",
    "results = {}"
   ]
  },
  {
   "cell_type": "code",
   "execution_count": 44,
   "id": "c721b6cb",
   "metadata": {},
   "outputs": [],
   "source": [
    "from scipy.sparse import coo_matrix\n",
    "from scipy.sparse.linalg import svds"
   ]
  },
  {
   "cell_type": "code",
   "execution_count": 45,
   "id": "c7a39572",
   "metadata": {},
   "outputs": [
    {
     "name": "stderr",
     "output_type": "stream",
     "text": [
      "c:\\Users\\krugd\\AppData\\Local\\Programs\\Python\\Python313\\Lib\\site-packages\\implicit\\utils.py:164: ParameterWarning: Method expects CSR input, and was passed coo_matrix instead. Converting to CSR took 0.01962733268737793 seconds\n",
      "  warnings.warn(\n"
     ]
    },
    {
     "data": {
      "application/vnd.jupyter.widget-view+json": {
       "model_id": "eb6f9c1ee0fe4ff5b2db8edded5fcb05",
       "version_major": 2,
       "version_minor": 0
      },
      "text/plain": [
       "  0%|          | 0/10 [00:00<?, ?it/s]"
      ]
     },
     "metadata": {},
     "output_type": "display_data"
    },
    {
     "name": "stdout",
     "output_type": "stream",
     "text": [
      "Готово: binary\n"
     ]
    },
    {
     "name": "stderr",
     "output_type": "stream",
     "text": [
      "c:\\Users\\krugd\\AppData\\Local\\Programs\\Python\\Python313\\Lib\\site-packages\\implicit\\utils.py:164: ParameterWarning: Method expects CSR input, and was passed coo_matrix instead. Converting to CSR took 0.01935863494873047 seconds\n",
      "  warnings.warn(\n"
     ]
    },
    {
     "data": {
      "application/vnd.jupyter.widget-view+json": {
       "model_id": "01baf32924ad415f8acdf1c281866057",
       "version_major": 2,
       "version_minor": 0
      },
      "text/plain": [
       "  0%|          | 0/10 [00:00<?, ?it/s]"
      ]
     },
     "metadata": {},
     "output_type": "display_data"
    },
    {
     "ename": "ArpackError",
     "evalue": "ARPACK error -9: Starting vector is zero.",
     "output_type": "error",
     "traceback": [
      "\u001b[1;31m---------------------------------------------------------------------------\u001b[0m",
      "\u001b[1;31mArpackError\u001b[0m                               Traceback (most recent call last)",
      "Cell \u001b[1;32mIn[45], line 9\u001b[0m\n\u001b[0;32m      6\u001b[0m sparse_matrix \u001b[38;5;241m=\u001b[39m create_sparse_matrix(df_train_processed, num_users, num_items)\n\u001b[0;32m      8\u001b[0m als_model \u001b[38;5;241m=\u001b[39m train_als(sparse_matrix)\n\u001b[1;32m----> 9\u001b[0m svd_model \u001b[38;5;241m=\u001b[39m \u001b[43mtrain_svd\u001b[49m\u001b[43m(\u001b[49m\u001b[43msparse_matrix\u001b[49m\u001b[43m)\u001b[49m\n\u001b[0;32m     11\u001b[0m results[mode] \u001b[38;5;241m=\u001b[39m {\u001b[38;5;124m\"\u001b[39m\u001b[38;5;124mALS\u001b[39m\u001b[38;5;124m\"\u001b[39m: als_model, \u001b[38;5;124m\"\u001b[39m\u001b[38;5;124mSVD\u001b[39m\u001b[38;5;124m\"\u001b[39m: svd_model}\n\u001b[0;32m     12\u001b[0m \u001b[38;5;28mprint\u001b[39m(\u001b[38;5;124mf\u001b[39m\u001b[38;5;124m\"\u001b[39m\u001b[38;5;124mГотово: \u001b[39m\u001b[38;5;132;01m{\u001b[39;00mmode\u001b[38;5;132;01m}\u001b[39;00m\u001b[38;5;124m\"\u001b[39m)\n",
      "Cell \u001b[1;32mIn[40], line 14\u001b[0m, in \u001b[0;36mtrain_svd\u001b[1;34m(sparse_matrix, k)\u001b[0m\n\u001b[0;32m     13\u001b[0m \u001b[38;5;28;01mdef\u001b[39;00m\u001b[38;5;250m \u001b[39m\u001b[38;5;21mtrain_svd\u001b[39m(sparse_matrix, k\u001b[38;5;241m=\u001b[39m\u001b[38;5;241m20\u001b[39m):\n\u001b[1;32m---> 14\u001b[0m     U, sigma, Vt \u001b[38;5;241m=\u001b[39m \u001b[43msvds\u001b[49m\u001b[43m(\u001b[49m\u001b[43msparse_matrix\u001b[49m\u001b[43m,\u001b[49m\u001b[43m \u001b[49m\u001b[43mk\u001b[49m\u001b[38;5;241;43m=\u001b[39;49m\u001b[43mk\u001b[49m\u001b[43m)\u001b[49m\n\u001b[0;32m     15\u001b[0m     \u001b[38;5;28;01mreturn\u001b[39;00m U, sigma, Vt\n",
      "File \u001b[1;32mc:\\Users\\krugd\\AppData\\Local\\Programs\\Python\\Python313\\Lib\\site-packages\\scipy\\_lib\\_util.py:440\u001b[0m, in \u001b[0;36m_transition_to_rng.<locals>.decorator.<locals>.wrapper\u001b[1;34m(*args, **kwargs)\u001b[0m\n\u001b[0;32m    433\u001b[0m     message \u001b[38;5;241m=\u001b[39m (\n\u001b[0;32m    434\u001b[0m         \u001b[38;5;124m\"\u001b[39m\u001b[38;5;124mThe NumPy global RNG was seeded by calling \u001b[39m\u001b[38;5;124m\"\u001b[39m\n\u001b[0;32m    435\u001b[0m         \u001b[38;5;124mf\u001b[39m\u001b[38;5;124m\"\u001b[39m\u001b[38;5;124m`np.random.seed`. Beginning in \u001b[39m\u001b[38;5;132;01m{\u001b[39;00mend_version\u001b[38;5;132;01m}\u001b[39;00m\u001b[38;5;124m, this \u001b[39m\u001b[38;5;124m\"\u001b[39m\n\u001b[0;32m    436\u001b[0m         \u001b[38;5;124m\"\u001b[39m\u001b[38;5;124mfunction will no longer use the global RNG.\u001b[39m\u001b[38;5;124m\"\u001b[39m\n\u001b[0;32m    437\u001b[0m     ) \u001b[38;5;241m+\u001b[39m cmn_msg\n\u001b[0;32m    438\u001b[0m     warnings\u001b[38;5;241m.\u001b[39mwarn(message, \u001b[38;5;167;01mFutureWarning\u001b[39;00m, stacklevel\u001b[38;5;241m=\u001b[39m\u001b[38;5;241m2\u001b[39m)\n\u001b[1;32m--> 440\u001b[0m \u001b[38;5;28;01mreturn\u001b[39;00m \u001b[43mfun\u001b[49m\u001b[43m(\u001b[49m\u001b[38;5;241;43m*\u001b[39;49m\u001b[43margs\u001b[49m\u001b[43m,\u001b[49m\u001b[43m \u001b[49m\u001b[38;5;241;43m*\u001b[39;49m\u001b[38;5;241;43m*\u001b[39;49m\u001b[43mkwargs\u001b[49m\u001b[43m)\u001b[49m\n",
      "File \u001b[1;32mc:\\Users\\krugd\\AppData\\Local\\Programs\\Python\\Python313\\Lib\\site-packages\\scipy\\sparse\\linalg\\_eigen\\_svds.py:509\u001b[0m, in \u001b[0;36msvds\u001b[1;34m(A, k, ncv, tol, which, v0, maxiter, return_singular_vectors, solver, rng, options)\u001b[0m\n\u001b[0;32m    507\u001b[0m \u001b[38;5;28;01mif\u001b[39;00m v0 \u001b[38;5;129;01mis\u001b[39;00m \u001b[38;5;28;01mNone\u001b[39;00m:\n\u001b[0;32m    508\u001b[0m     v0 \u001b[38;5;241m=\u001b[39m rng\u001b[38;5;241m.\u001b[39mstandard_normal(size\u001b[38;5;241m=\u001b[39m(\u001b[38;5;28mmin\u001b[39m(A\u001b[38;5;241m.\u001b[39mshape),))\n\u001b[1;32m--> 509\u001b[0m _, eigvec \u001b[38;5;241m=\u001b[39m \u001b[43meigsh\u001b[49m\u001b[43m(\u001b[49m\u001b[43mXH_X\u001b[49m\u001b[43m,\u001b[49m\u001b[43m \u001b[49m\u001b[43mk\u001b[49m\u001b[38;5;241;43m=\u001b[39;49m\u001b[43mk\u001b[49m\u001b[43m,\u001b[49m\u001b[43m \u001b[49m\u001b[43mtol\u001b[49m\u001b[38;5;241;43m=\u001b[39;49m\u001b[43mtol\u001b[49m\u001b[43m \u001b[49m\u001b[38;5;241;43m*\u001b[39;49m\u001b[38;5;241;43m*\u001b[39;49m\u001b[43m \u001b[49m\u001b[38;5;241;43m2\u001b[39;49m\u001b[43m,\u001b[49m\u001b[43m \u001b[49m\u001b[43mmaxiter\u001b[49m\u001b[38;5;241;43m=\u001b[39;49m\u001b[43mmaxiter\u001b[49m\u001b[43m,\u001b[49m\n\u001b[0;32m    510\u001b[0m \u001b[43m                  \u001b[49m\u001b[43mncv\u001b[49m\u001b[38;5;241;43m=\u001b[39;49m\u001b[43mncv\u001b[49m\u001b[43m,\u001b[49m\u001b[43m \u001b[49m\u001b[43mwhich\u001b[49m\u001b[38;5;241;43m=\u001b[39;49m\u001b[43mwhich\u001b[49m\u001b[43m,\u001b[49m\u001b[43m \u001b[49m\u001b[43mv0\u001b[49m\u001b[38;5;241;43m=\u001b[39;49m\u001b[43mv0\u001b[49m\u001b[43m)\u001b[49m\n\u001b[0;32m    511\u001b[0m \u001b[38;5;66;03m# arpack do not guarantee exactly orthonormal eigenvectors\u001b[39;00m\n\u001b[0;32m    512\u001b[0m \u001b[38;5;66;03m# for clustered eigenvalues, especially in complex arithmetic\u001b[39;00m\n\u001b[0;32m    513\u001b[0m eigvec, _ \u001b[38;5;241m=\u001b[39m np\u001b[38;5;241m.\u001b[39mlinalg\u001b[38;5;241m.\u001b[39mqr(eigvec)\n",
      "File \u001b[1;32mc:\\Users\\krugd\\AppData\\Local\\Programs\\Python\\Python313\\Lib\\site-packages\\scipy\\sparse\\linalg\\_eigen\\arpack\\arpack.py:1696\u001b[0m, in \u001b[0;36meigsh\u001b[1;34m(A, k, M, sigma, which, v0, ncv, maxiter, tol, return_eigenvectors, Minv, OPinv, mode)\u001b[0m\n\u001b[0;32m   1694\u001b[0m \u001b[38;5;28;01mwith\u001b[39;00m _ARPACK_LOCK:\n\u001b[0;32m   1695\u001b[0m     \u001b[38;5;28;01mwhile\u001b[39;00m \u001b[38;5;129;01mnot\u001b[39;00m params\u001b[38;5;241m.\u001b[39mconverged:\n\u001b[1;32m-> 1696\u001b[0m         \u001b[43mparams\u001b[49m\u001b[38;5;241;43m.\u001b[39;49m\u001b[43miterate\u001b[49m\u001b[43m(\u001b[49m\u001b[43m)\u001b[49m\n\u001b[0;32m   1698\u001b[0m     \u001b[38;5;28;01mreturn\u001b[39;00m params\u001b[38;5;241m.\u001b[39mextract(return_eigenvectors)\n",
      "File \u001b[1;32mc:\\Users\\krugd\\AppData\\Local\\Programs\\Python\\Python313\\Lib\\site-packages\\scipy\\sparse\\linalg\\_eigen\\arpack\\arpack.py:578\u001b[0m, in \u001b[0;36m_SymmetricArpackParams.iterate\u001b[1;34m(self)\u001b[0m\n\u001b[0;32m    576\u001b[0m     \u001b[38;5;28mself\u001b[39m\u001b[38;5;241m.\u001b[39m_raise_no_convergence()\n\u001b[0;32m    577\u001b[0m \u001b[38;5;28;01melse\u001b[39;00m:\n\u001b[1;32m--> 578\u001b[0m     \u001b[38;5;28;01mraise\u001b[39;00m ArpackError(\u001b[38;5;28mself\u001b[39m\u001b[38;5;241m.\u001b[39minfo, infodict\u001b[38;5;241m=\u001b[39m\u001b[38;5;28mself\u001b[39m\u001b[38;5;241m.\u001b[39miterate_infodict)\n",
      "\u001b[1;31mArpackError\u001b[0m: ARPACK error -9: Starting vector is zero."
     ]
    }
   ],
   "source": [
    "for mode in modes:\n",
    "    df_train_processed = preprocess_data(df_train, df_test, mode=mode)\n",
    "    \n",
    "    num_users = df_train[\"user_id\"].max() + 1\n",
    "    num_items = df_train[\"item_id\"].max() + 1\n",
    "    sparse_matrix = create_sparse_matrix(df_train_processed, num_users, num_items)\n",
    "    \n",
    "    als_model = train_als(sparse_matrix)\n",
    "    svd_model = train_svd(sparse_matrix)\n",
    "    \n",
    "    results[mode] = {\"ALS\": als_model, \"SVD\": svd_model}\n",
    "    print(f\"Готово: {mode}\")"
   ]
  },
  {
   "cell_type": "code",
   "execution_count": null,
   "id": "7cfc0ade",
   "metadata": {},
   "outputs": [
    {
     "name": "stdout",
     "output_type": "stream",
     "text": [
      "binary: ALS NDCG = 0.3849, SVD NDCG = 0.4557\n",
      "pos_neg: ALS NDCG = 0.3849, SVD NDCG = 0.3849\n",
      "pos_neg_neg: ALS NDCG = 0.3849, SVD NDCG = 0.3588\n",
      "time_smooth: ALS NDCG = 0.3849, SVD NDCG = 0.3595\n"
     ]
    }
   ],
   "source": [
    "# Оценка моделей\n",
    "ndcg_results = {\"ALS\": [], \"SVD\": []}\n",
    "\n",
    "for mode in modes:\n",
    "    als_model = results[mode]['ALS']\n",
    "    svd_model = results[mode]['SVD']\n",
    "    \n",
    "    als_preds, als_actuals = predict_als(als_model, df_test, num_users, num_items)\n",
    "    svd_preds, svd_actuals = predict_svd(*svd_model, df_test)\n",
    "    \n",
    "    ndcg_als = np.mean([ndcg_score([true], [pred]) for true, pred in zip(als_actuals, als_preds)])\n",
    "    ndcg_svd = np.mean([ndcg_score([true], [pred]) for true, pred in zip(svd_actuals, svd_preds)])\n",
    "    \n",
    "    ndcg_results[\"ALS\"].append(ndcg_als)\n",
    "    ndcg_results[\"SVD\"].append(ndcg_svd)\n",
    "\n",
    "    print(f\"{mode}: ALS NDCG = {ndcg_als:.4f}, SVD NDCG = {ndcg_svd:.4f}\")"
   ]
  },
  {
   "cell_type": "code",
   "execution_count": null,
   "id": "0a5c2e89",
   "metadata": {},
   "outputs": [
    {
     "data": {
      "image/png": "[encoded data removed]",
      "text/plain": [
       "<Figure size 1000x500 with 1 Axes>"
      ]
     },
     "metadata": {},
     "output_type": "display_data"
    }
   ],
   "source": [
    "# Визуализация результатов\n",
    "x = np.arange(len(modes))\n",
    "width = 0.35\n",
    "\n",
    "fig, ax = plt.subplots(figsize=(10, 5))\n",
    "rects1 = ax.bar(x - width/2, ndcg_results[\"ALS\"], width, label=\"ALS\")\n",
    "rects2 = ax.bar(x + width/2, ndcg_results[\"SVD\"], width, label=\"SVD\")\n",
    "\n",
    "ax.set_xlabel(\"Способы преобразования данных\")\n",
    "ax.set_ylabel(\"NDCG Score\")\n",
    "ax.set_title(\"Сравнение ALS и SVD по NDCG Score\")\n",
    "ax.set_xticks(x)\n",
    "ax.set_xticklabels(modes)\n",
    "ax.legend()\n",
    "\n",
    "plt.show()"
   ]
  },
  {
   "cell_type": "markdown",
   "id": "ee7a03b1-5072-4bc4-ba46-1fc3c989b888",
   "metadata": {},
   "source": [
    "##### Задание 5. iALS на numpy/torch. Давайте реализуем алгоритм iALS на нумпае или торче. Требуется реализовать алгорит, описанный в 4 части [статьи](http://yifanhu.net/PUB/cf.pdf). Обратите внимания на все оптимизации, которые они описывают в статье, чтобы сократить лишние вычисления. Hint: метрики у вашего алгоритма должны быть сравнимы с метриками ALS из библиотеки implicit"
   ]
  },
  {
   "cell_type": "code",
   "execution_count": null,
   "id": "e6be5f0d-1454-4f15-9dd1-17d1f1f99583",
   "metadata": {},
   "outputs": [],
   "source": [
    "class iALS:\n",
    "    def __init__(self, n_factors: int = 100, alpha: float = 1.0, reg_coef = 0.01):\n",
    "        #your code here\n",
    "        self.n_factors = n_factors\n",
    "        self.alpha = alpha\n",
    "        self.reg_coef = reg_coef\n",
    "        self.X = None  # Факторы пользователей\n",
    "        self.Y = None  # Факторы предметов\n",
    "\n",
    "    def fit(self, interractions: np.ndarray, n_iterations: int = 10):\n",
    "\n",
    "        #your code here\n",
    "        n_users, n_items = interactions.shape\n",
    "\n",
    "        # Инициализируем матрицы факторов случайными значениями\n",
    "        self.X = np.random.normal(scale=1.0/self.n_factors, size=(n_users, self.n_factors))\n",
    "        self.Y = np.random.normal(scale=1.0/self.n_factors, size=(n_items, self.n_factors))\n",
    "\n",
    "        # Вычисляем матрицу уверенности\n",
    "        C = 1 + self.alpha * interactions\n",
    "\n",
    "        # Бинаризуем матрицу предпочтений\n",
    "        P = (interactions > 0).astype(float)\n",
    "\n",
    "        for _ in range(n_iterations):\n",
    "            self._update_users(C, P)\n",
    "            self._update_items(C, P)\n",
    "\n",
    "    def _update_users(self, C, P):\n",
    "        # Обновление матрицы факторов пользователей\n",
    "        YTY = self.Y.T @ self.Y  # Предвычисляем Y^T Y\n",
    "\n",
    "        for u in range(C.shape[0]):\n",
    "            Cu = np.diag(C[u])  # Диагональная матрица C_u\n",
    "            YT_Cu_Y = YTY + self.Y.T @ (Cu - np.eye(C.shape[1])) @ self.Y\n",
    "            YT_Cu_Pu = self.Y.T @ Cu @ P[u]\n",
    "            self.X[u] = np.linalg.solve(YT_Cu_Y + self.reg_coef * np.eye(self.n_factors), YT_Cu_Pu)\n",
    "\n",
    "    def _update_items(self, C, P):\n",
    "        # Обновление матрицы факторов айтемов\n",
    "        XTX = self.X.T @ self.X  # Предвычисляем X^T X\n",
    "\n",
    "        for i in range(C.shape[1]):\n",
    "            Ci = np.diag(C[:, i])  # Диагональная матрица C_i\n",
    "            XT_Ci_X = XTX + self.X.T @ (Ci - np.eye(C.shape[0])) @ self.X\n",
    "            XT_Ci_Pi = self.X.T @ Ci @ P[:, i]\n",
    "            self.Y[i] = np.linalg.solve(XT_Ci_X + self.reg_coef * np.eye(self.n_factors), XT_Ci_Pi)\n",
    "\n",
    "    def predict(self, top_k: int = 100):\n",
    "        # возвращает top-k айтемов для каждого юзера(айтемы с которыми юзер взаимодействовал не должны попасть в рекомендации)\n",
    "        #your code here\n",
    "        scores = self.X @ self.Y.T  # Вычисляем оценки релевантности\n",
    "        scores[interactions > 0] = -np.inf  # Исключаем уже просмотренные предметы\n",
    "        recommendations = np.argsort(-scores, axis=1)[:, :top_k]\n",
    "        return recommendations # shape ~ [n_users, top_k]"
   ]
  }
 ],
 "metadata": {
  "kernelspec": {
   "display_name": "Python 3",
   "language": "python",
   "name": "python3"
  },
  "language_info": {
   "codemirror_mode": {
    "name": "ipython",
    "version": 3
   },
   "file_extension": ".py",
   "mimetype": "text/x-python",
   "name": "python",
   "nbconvert_exporter": "python",
   "pygments_lexer": "ipython3",
   "version": "3.13.1"
  }
 },
 "nbformat": 4,
 "nbformat_minor": 5
}
